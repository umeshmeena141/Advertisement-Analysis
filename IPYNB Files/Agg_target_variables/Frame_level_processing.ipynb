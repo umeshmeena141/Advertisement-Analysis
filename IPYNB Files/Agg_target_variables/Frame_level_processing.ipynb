{
 "cells": [
  {
   "cell_type": "markdown",
   "metadata": {},
   "source": [
    "## Logo frame count and duration"
   ]
  },
  {
   "cell_type": "code",
   "execution_count": 1,
   "metadata": {},
   "outputs": [],
   "source": [
    "import pandas as pd\n",
    "import seaborn as sns\n",
    "import numpy as np\n",
    "import matplotlib\n",
    "import matplotlib.pyplot as plt\n",
    "import seaborn\n",
    "from collections import Counter\n",
    "from imblearn.over_sampling import SMOTE\n",
    "from sklearn.feature_extraction.text import TfidfVectorizer\n",
    "from sklearn.model_selection import train_test_split\n",
    "import xgboost as xgb\n",
    "from sklearn.metrics import mean_squared_error\n",
    "from itertools import groupby\n",
    "import itertools"
   ]
  },
  {
   "cell_type": "code",
   "execution_count": 2,
   "metadata": {},
   "outputs": [],
   "source": [
    "inp_df = pd.read_excel('./Microsoft Ad Optimization-AI Data_Survey Aggregated Data 29052019.xlsx',sheet_name=\"Sheet2\")"
   ]
  },
  {
   "cell_type": "code",
   "execution_count": 90,
   "metadata": {},
   "outputs": [
    {
     "data": {
      "text/plain": [
       "array(['Yasmin Touch - ATL Win 10 15 TV US',\n",
       "       'Yasmin Rev - ATL Win 10 30 TV US',\n",
       "       'Yasmin Power - ATL Win 10 15 TV US',\n",
       "       'Yasmin - ATL Win 10 30 TV US',\n",
       "       'Trey Versatility - Surface SP4 15 TV US',\n",
       "       'Victoria - ATL SP4 30 TV US',\n",
       "       'Victoria Versatility - ATL SP4 15 TV US',\n",
       "       'Trey Power - Surface SP4 15 TV US',\n",
       "       'Tim Flach Power - Surface 15 OLV US',\n",
       "       'Trey - Surface SP4 30 TV US',\n",
       "       'Song for Surface NFL Fans - Surface SP4 30 TV US',\n",
       "       'Surface - Surface SP4 30 TV US',\n",
       "       'The One Hero - SW Win 10 30 TV US',\n",
       "       'News Go fast - Surface SP4 30 TV US',\n",
       "       'Rhythm - Surface Book 30 TV US', 'Shame - Surface SP4 30 TV US',\n",
       "       'Quads - ATL Win 10 30 TV US', 'Quads Hello - ATL Win 10 15 TV US',\n",
       "       'Quads Pen - ATL Win 10 15 TV US',\n",
       "       'Bug Chicks Inking - SW Win 10 15 OLV US',\n",
       "       'Bug Chicks Inking - SW Win 10 15 TV US',\n",
       "       'Bug Chicks Inking No Supers - SW Win 10 15 TV US',\n",
       "       'Bug Chicks Cortana - SW Win 10 15 TV US',\n",
       "       'Bug Chicks Hello - SW Win 10 15 OLV US',\n",
       "       'Bug Chicks Hello - SW Win 10 15 TV US',\n",
       "       'Bug Chicks - SW Win 10 30 TV US', 'Best Buy VO - SW HP 30 TV US',\n",
       "       'Best Buy VO - SW Win 10 30 TV US',\n",
       "       'Bug Chicks Cortana - SW Win 10 15 OLV US',\n",
       "       'Ariela - Surface SP4 30 TV US',\n",
       "       'Best Buy No VO - SW Win 10 30 TV US',\n",
       "       'Beowulf - SW Win 10 30 TV US', 'Beowulf Pen - SW Win 10 15 TV US',\n",
       "       'Beowulf Versatility - SW Win 10 15 TV US',\n",
       "       'Best Buy and MS Store No VO - SW HP 30 TV US',\n",
       "       'Best Buy No VO - SW HP 30 TV US',\n",
       "       'Best Buy No VO - SW HP Computers 30 TV US',\n",
       "       'College Girls Cortana - SW Win 10 15 TV US',\n",
       "       'College Girls Pen - SW Win 10 15 TV US',\n",
       "       'Howards - SW Win 10 30 TV US', 'Doyin - SW Win 10 30 TV US',\n",
       "       'Howards Battery - SW Win 10 15 TV US',\n",
       "       'Howards Touch - SW Win 10 15 TV US',\n",
       "       'Jorge Sandra Pen - Surface 15 TV US',\n",
       "       'Jorge Sandra Resolution - Surface 15 TV US',\n",
       "       'Keyboard - Surface SP4 30 TV US',\n",
       "       'Mancusi Pen - Surface SP4 15 TV US',\n",
       "       'Mancusi Power - Surface SP4 15 TV US',\n",
       "       'Mark - Surface Book 30 TV US', 'Melissa - Surface SP4 30 TV US',\n",
       "       'MS Store No VO - SW Win 10 30 TV US',\n",
       "       'Newest Users - SW Win 10 30 TV US',\n",
       "       \"Don't Touch - Surface SP4 30 TV US\",\n",
       "       'Doodle - Surface SP4 30 TV US',\n",
       "       'Jorge Sandra - Surface Book 30 TV US',\n",
       "       'Angela - SW Win 10 30 TV US',\n",
       "       'Angela Inking - SW Win 10 15 TV US',\n",
       "       'Angela Versatility - SW Win 10 15 TV US',\n",
       "       'Doyin Cortana - SW Win 10 15 TV US',\n",
       "       'Doyin Hello - SW Win 10 15 TV US',\n",
       "       'Doyin Inking - SW Win 10 15 TV US',\n",
       "       'Mancusi Versatility - Surface SP4 15 TV US',\n",
       "       'Melissa Durability - Surface SP4 15 TV US',\n",
       "       'Melissa Power - Surface SP4 15 TV US',\n",
       "       'Tim Flach - Surface Book 30 TV US',\n",
       "       'Mancusi - Surface SP4 30 TV US', 'Emma - SW Win 10 30 TV US',\n",
       "       '221 BATCH RE-TEST: Surface Book_US_30_Jorge/Sandra_TV',\n",
       "       '185 Brand Moments_Microsoft_US_60_Learning Tools_TV_4SEG',\n",
       "       '200 Win10_US_30_Toney_TV', '202 Win10_US_30_Katie_TV',\n",
       "       '207 Win10_US_15_Toney Inking_TV',\n",
       "       '208 Win10_US_15_Toney Drawing_TV',\n",
       "       '209 Surface Laptop_US_30_Brodie_TV',\n",
       "       '210 Surface Laptop_US_30_Xyla_TV',\n",
       "       '215 Surface Laptop_US_30_Xyla Full VO_TV',\n",
       "       '216 Surface Laptop_US_30_Brodie Full VO_TV',\n",
       "       '217 Surface Laptop_US_30_Combo X&B_TV',\n",
       "       '218 Surface Laptop_US_30_Xyla Real People_TV',\n",
       "       '219 Surface Laptop_US_15_Xyla Feel_TV',\n",
       "       '220 Surface Laptop_US_15_Brodie_TV',\n",
       "       '230 Surface Pro_US_30_Bengals NFL_TV',\n",
       "       '236 Surface Pro_US_30_Bengals NFL Recut_TV',\n",
       "       '237 Surface Pro_US_30_Leann_TV',\n",
       "       '239 Surface Laptop_US_30_Brodie FINAL_TV',\n",
       "       '240 Surface Laptop_US_30_Combo Dragon_TV',\n",
       "       '241 Surface Laptop_US_30_Brodie FINAL GP_TV',\n",
       "       '242 Surface Laptop_US_30_Combo Dragon GP_TV',\n",
       "       '246 Surface Pro_US_30_Bengals NFL v3_TV',\n",
       "       '247 Surface Pro_US_Lights 3SEG_TV',\n",
       "       '248 Surface Pro_US_30_Bujar_TV',\n",
       "       '269 Surface Laptop_US_30_Courtney_TV',\n",
       "       '274 Surface Laptop_US_30_Courtney v2_TV',\n",
       "       '277 Surface Laptop_US_30_Courtney v3 Pineapple_TV',\n",
       "       '306 SurfaceGo_Salmon Sisters',\n",
       "       '308 SurfaceGo_OLV 15_Salmon Sisters_Compete ',\n",
       "       '309 SurfaceGo_OLV 15_Salmon Sisters_Small Create',\n",
       "       '310 SurfaceGo_OLV 15_Salmon Sisters_Work Play',\n",
       "       '311 SurfaceGo_OLV 15_Salmon Sisters_Work Play Supers',\n",
       "       '312 SurfaceGo_TV 15_Salmon Sisters_Cutdown',\n",
       "       '313 SurfaceGo_OLV 15_Salmon Sisters_Small Create Supers',\n",
       "       '314 SurfaceGo_Salmon Sisters_Final 30', '323 SurfacePro_Adam_30',\n",
       "       '336 Cupcake NFL_30', '256 Surface Pro_US_15_Leann Versatility_TV',\n",
       "       '257 Surface Pro_US_15_Leann Productivity_TV',\n",
       "       '258 Surface Pro_US_15_Bujar Power_TV',\n",
       "       '259 Surface Pro_US_15_Bujar Design_TV', '307 SurfaceGo_Sizzle 30',\n",
       "       '284it Surface Laptop_UK_30_Courtney v2 US VO_TV',\n",
       "       'Surface Laptop_UK_30_Courtney v2 US VO_TV',\n",
       "       '222 BATCH RE-TEST: Surface Book_UK_30_Jorge/Sandra_TV',\n",
       "       '224 BATCH RE-TEST: Surface Book_AUS_30_Jorge/Sandra_TV',\n",
       "       '223 BATCH RE-TEST: Win10_UK_30_College Girls_TV',\n",
       "       '225 BATCH RE-TEST: Win10_AUS_30_College Girls_TV',\n",
       "       '201 Win10_UK_30_Toney_TV', '203 Win10_UK_30_Katie Compete_TV',\n",
       "       '204 Win10_AUS_30_Katie Non-Compete_TV',\n",
       "       '205 Win10_AUS_30_Katie Compete_TV',\n",
       "       '206 Win10_UK_30_Katie Non-Compete_TV',\n",
       "       '211 Surface Laptop_UK_30_Brodie_TV',\n",
       "       '212 Surface Laptop_UK_30_Xyla_TV',\n",
       "       '213 Surface Laptop_AUS_30_Brodie_TV',\n",
       "       '214 Surface Laptop_AUS_30_Xyla_TV',\n",
       "       '233 Surface Pro_AUS_30_Leann_TV',\n",
       "       '238 Surface Pro_UK_30_Leann_TV', '249 Surface Pro_UK_30_Bujar_TV',\n",
       "       '270 Surface Laptop_UK_30_Courtney_TV',\n",
       "       '283 Surface Laptop_UK_30_Courtney v2 VO_TV',\n",
       "       '284 Surface Laptop_UK_30_Courtney v2 US VO_TV',\n",
       "       '315 SurfaceGo_AUS_30_No Frills Students Early Career_TV',\n",
       "       '250 Surface Pro_AUS_30_Bujar_TV'], dtype=object)"
      ]
     },
     "execution_count": 90,
     "metadata": {},
     "output_type": "execute_result"
    }
   ],
   "source": [
    "inp_df['Video Name'].unique()"
   ]
  },
  {
   "cell_type": "code",
   "execution_count": 3,
   "metadata": {},
   "outputs": [
    {
     "data": {
      "text/plain": [
       "array(['Video Name', 'Campaign', 'Length of the Ad', 'Country',\n",
       "       'AD Type: TV/DIGITAL', 'Image Name', 'Age-Gender',\n",
       "       'Microsoft-Logo', 'Microsoft-Text', 'Intel_Logo', 'Intel-text',\n",
       "       'Other-logo', 'Other-text', 'Sub-Brands', 'Emotion', 'Ethnicity',\n",
       "       'Object Class', 'Scene Attributes', 'Object 1-Laptop',\n",
       "       'object 2- Tablet', 'object 3-Mobile', 'object 4-PC',\n",
       "       'Interest Trace', 'Microsoft_Logo', 'Microsoft_Windows_Brand',\n",
       "       'Microsoft_Windows10_Brand', 'Microsoft_SurfacePro4_Brand',\n",
       "       'Microsoft_SurfaceBook_Brand', 'Microsoft_SurfacePen_Brand',\n",
       "       'HP_Logo', 'HP_Brand', 'HP_Spectre_Brand', 'HP_Spectrex360_Brand',\n",
       "       'Apple_Logo', 'Apple_MacbookAir_Brand', 'Apple_MacBookAir13_Brand',\n",
       "       'Apple_MacBookPro_Brand', 'Intel_Logo.1', 'Dell_Logo',\n",
       "       'Dell_Brand', 'Dell_XPS13_Brand', 'Asus_Logo', 'Asus_Brand',\n",
       "       'Asus_T102_Brand', 'Lenovo_Brand', 'Lenovo_Yoga_Brand',\n",
       "       'Lenovo_Yoga910_Brand', 'No. of Microsoft mention in Audio',\n",
       "       'No. of Windows mention in Audio',\n",
       "       'No. of Surface Book mention in Audio',\n",
       "       'No. of Surface Pro mention in Audio',\n",
       "       'No. of Cortana mention in Audio',\n",
       "       'No. of Lenovo yoga mention in Audio',\n",
       "       'No. of mac mention in Audio',\n",
       "       'No. of mac book air mention in Audio',\n",
       "       'No. of HP Spectre X 360 mention in Audio', 'Transcript',\n",
       "       'Q.6 Enjoyment - Very Much', 'Q.6 Enjoyment - Somewhat',\n",
       "       \"Q.6 Enjoyment - Wouldn't Mind\", 'Q.6 Enjoyment - Not Much',\n",
       "       'Q.6 Enjoyment - Not at All', 'Q.6 Enjoyment - Mean',\n",
       "       'Q. 7/8/9 Active Involvement - Mean', 'Advertised Brand',\n",
       "       'Unaided Branding',\n",
       "       \"Q. 11a Aided Branding - You couldn't help but remember\",\n",
       "       'Q. 11a Aided Branding - It is pretty good at making you remember ',\n",
       "       'Q. 11a Aided Branding - It is just okay at making you remember',\n",
       "       'Q. 11a Aided Branding - It could have been for any brand of',\n",
       "       'Q. 11a Aided Branding - It could have been for almost anything',\n",
       "       'Q. 11a Aided Branding - Mean', 'Q. 12 Brand Cues - Very easily',\n",
       "       'Q. 12 Brand Cues - Somewhat easily',\n",
       "       'Q. 12 Brand Cues - Not very easily',\n",
       "       'Q. 12 Brand Cues - Not at all easily', 'Q. 12 Brand Cues - Mean',\n",
       "       'PERSUASION SCORE', 'PURCHASE INTENT Shift - Windows 10',\n",
       "       'PURCHASE INTENT Shift - Surface Laptop',\n",
       "       'PURCHASE INTENT Shift - Surface Tablet',\n",
       "       'PURCHASE INTENT Shift - Apple MacBook/MacBook Air',\n",
       "       'PURCHASE INTENT Shift - Apple iPad',\n",
       "       'PURCHASE INTENT Shift - Apple IPad Pro Laptop',\n",
       "       'PURCHASE INTENT Shift - Apple IPad Pro Tablet',\n",
       "       'PURCHASE INTENT Shift - Samsung Galaxy Tablet',\n",
       "       'PURCHASE INTENT Shift - Smartphone Android',\n",
       "       'PURCHASE INTENT Shift - Smartphone iOS iPhone',\n",
       "       'PURCHASE INTENT Shift - Google Chrome OS',\n",
       "       'PURCHASE INTENT Shift - Other (Tablet)',\n",
       "       'Q. L14M Persuasion - Masterbrand - Makes me much more likely to consider COMPLETE BRAND NAME',\n",
       "       'Q. L14M Persuasion - Masterbrand - Makes me a little more likely to consider COMPLETE BRAND NAME',\n",
       "       'Q. L14M Persuasion - Masterbrand - Makes no difference',\n",
       "       'Q. L14M Persuasion - Masterbrand - Makes me less likely to consider COMPLETE BRAND NAME',\n",
       "       'Q. L14M Persuasion - Masterbrand - Mean',\n",
       "       'Q. L14P Persuasion - Smartphone - Makes me much more likely to consider COMPLETE BRAND NAME',\n",
       "       'Q. L14P Persuasion - Smartphone - Makes me a little more likely to consider COMPLETE BRAND NAME',\n",
       "       'Q. L14P Persuasion - Smartphone - Makes no difference',\n",
       "       'Q. L14P Persuasion - Smartphone - Makes me less likely to consider COMPLETE BRAND NAME',\n",
       "       'Q. L14P Persuasion - Smartphone - Mean',\n",
       "       'Q. L14S Persuasion - Software - Makes me much more likely to consider COMPLETE BRAND NAME',\n",
       "       'Q. L14S Persuasion - Software - Makes me a little more likely to consider COMPLETE BRAND NAME',\n",
       "       'Q. L14S Persuasion - Software - Makes no difference',\n",
       "       'Q. L14S Persuasion - Software - Makes me less likely to consider COMPLETE BRAND NAME',\n",
       "       'Q. L14S Persuasion - Software - Mean',\n",
       "       'Q. L14T Persuasion - Tablet - Makes me much more likely to consider COMPLETE BRAND NAME',\n",
       "       'Q. L14T Persuasion - Tablet - Makes me a little more likely to consider COMPLETE BRAND NAME',\n",
       "       'Q. L14T Persuasion - Tablet - Makes no difference',\n",
       "       'Q. L14T Persuasion - Tablet - Makes me less likely to consider COMPLETE BRAND NAME',\n",
       "       'Q. L14T Persuasion - Tablet - Mean',\n",
       "       'Q. L14L Persuasion - Surface Laptop - Makes me much more likely to consider COMPLETE BRAND NAME',\n",
       "       'Q. L14L Persuasion - Surface Laptop - Makes me a little more likely to consider COMPLETE BRAND NAME',\n",
       "       'Q. L14L Persuasion - Surface Laptop - Makes no difference',\n",
       "       'Q. L14L Persuasion - Surface Laptop - Makes me less likely to consider COMPLETE BRAND NAME',\n",
       "       'Q. L14L Persuasion - Surface Laptop - Mean',\n",
       "       'Q. OP19 Call to Action - Speak to Friends and Family About (Brand) - Definitely will',\n",
       "       'Q. OP19 Call to Action - Speak to Friends and Family About (Brand) - Probably will',\n",
       "       'Q. OP19 Call to Action - Speak to Friends and Family About (Brand) - Might or might not',\n",
       "       'Q. OP19 Call to Action - Speak to Friends and Family About (Brand) - Probably will not',\n",
       "       'Q. OP19 Call to Action - Speak to Friends and Family About (Brand) - Definitely will not',\n",
       "       'Q. OP19 Call to Action - Speak to Friends and Family About (Brand) - Mean',\n",
       "       'Q. OP19 Call to Action - Visit the Website - Definitely will',\n",
       "       'Q. OP19 Call to Action - Visit the Website - Probably will',\n",
       "       'Q. OP19 Call to Action - Visit the Website - Might or might not',\n",
       "       'Q. OP19 Call to Action - Visit the Website - Probably will not',\n",
       "       'Q. OP19 Call to Action - Visit the Website - Definitely will not',\n",
       "       'Q. OP19 Call to Action - Visit the Website - Mean',\n",
       "       'Q. 20 Brand Appeal - Much more appealing',\n",
       "       'Q. 20 Brand Appeal - A little more appealing',\n",
       "       \"Q. 20 Brand Appeal - It didn't change my feelings about COMPLETE BRAND NAME\",\n",
       "       'Q. 20 Brand Appeal - A little less appealing',\n",
       "       'Q. 20 Brand Appeal - Much less appealing',\n",
       "       'Q. 20 Brand Appeal - Mean', 'Q. 32 Understanding - Very easy',\n",
       "       'Q. 32 Understanding - Somewhat easy',\n",
       "       'Q. 32 Understanding - Somewhat hard',\n",
       "       'Q. 32 Understanding - Very hard', 'Q. 32 Understanding - Mean',\n",
       "       'Q. 33 Relevance of Information - Very relevant',\n",
       "       'Q. 33 Relevance of Information - Somewhat relevant',\n",
       "       'Q. 33 Relevance of Information - Not very relevant',\n",
       "       'Q. 33 Relevance of Information - Not at all relevant',\n",
       "       'Q. 33 Relevance of Information - Mean',\n",
       "       'Q. 34 Credibility of Information - Agree strongly',\n",
       "       'Q. 34 Credibility of Information - Agree slightly',\n",
       "       'Q. 34 Credibility of Information - Neither agree nor disagree',\n",
       "       'Q. 34 Credibility of Information - Disagree slightly',\n",
       "       'Q. 34 Credibility of Information - Disagree strongly',\n",
       "       'Q. 34 Credibility of Information - Mean',\n",
       "       'Q. 35 New Information - A lot of new information',\n",
       "       'Q. 35 New Information - Some new information',\n",
       "       'Q. 35 New Information - No new information',\n",
       "       'Q. 35 New Information - No information at all',\n",
       "       'Q. 35 New Information - Mean',\n",
       "       'Q. 51N - Positive Emotions (Mean Scores) - Attracted',\n",
       "       'Q. 51N - Positive Emotions (Mean Scores) - Excited',\n",
       "       'Q. 51N - Positive Emotions (Mean Scores) - Confident',\n",
       "       'Q. 51N - Positive Emotions (Mean Scores) - Contented',\n",
       "       'Q. 51N - Positive Emotions (Mean Scores) - Affectionate',\n",
       "       'Q. 51N - Positive Emotions (Mean Scores) - Surprised',\n",
       "       'Q. 51N - Positive Emotions (Mean Scores) - Proud',\n",
       "       'Q. 51N - Positive Emotions (Mean Scores) - Inspired',\n",
       "       'Q. 52N - Negative Emotions (Mean Scores) - Repelled',\n",
       "       'Q. 52N - Negative Emotions (Mean Scores) - Inadequate',\n",
       "       'Q. 52N - Negative Emotions (Mean Scores) - Sad',\n",
       "       'Q. 52N - Negative Emotions (Mean Scores) - Annoyed',\n",
       "       'Q. 52N - Negative Emotions (Mean Scores) - Hatred',\n",
       "       'Q. 52N - Negative Emotions (Mean Scores) - Disappointed',\n",
       "       'Q. 52N - Negative Emotions (Mean Scores) - Guilty',\n",
       "       'Q. 52N - Negative Emotions (Mean Scores) - Unimpressed',\n",
       "       'Q. 36 Brand Difference - Agree strongly',\n",
       "       'Q. 36 Brand Difference - Agree slightly',\n",
       "       'Q. 36 Brand Difference - Neither agree nor disagree',\n",
       "       'Q. 36 Brand Difference - Disagree slightly',\n",
       "       'Q. 36 Brand Difference - Disagree strongly',\n",
       "       'Q. 36 Brand Difference - Mean',\n",
       "       'Q. 36a Meets Needs - Agree strongly',\n",
       "       'Q. 36a Meets Needs - Agree slightly',\n",
       "       'Q. 36a Meets Needs - Neither agree nor disagree',\n",
       "       'Q. 36a Meets Needs - Disagree slightly',\n",
       "       'Q. 36a Meets Needs - Disagree strongly',\n",
       "       'Q. 36a Meets Needs - Mean', 'Q. 36b Dynamic - Agree strongly',\n",
       "       'Q. 36b Dynamic - Agree slightly',\n",
       "       'Q. 36b Dynamic - Neither agree nor disagree',\n",
       "       'Q. 36b Dynamic - Disagree slightly',\n",
       "       'Q. 36b Dynamic - Disagree strongly', 'Q. 36b Dynamic - Mean',\n",
       "       'Q. 57N Affinity - Mean', 'Q. 59 Viral Pass Along - Yes',\n",
       "       'Q. 59 Viral Pass Along - Maybe', 'Q. 59 Viral Pass Along - No'],\n",
       "      dtype=object)"
      ]
     },
     "execution_count": 3,
     "metadata": {},
     "output_type": "execute_result"
    }
   ],
   "source": [
    "inp_df.columns.values"
   ]
  },
  {
   "cell_type": "code",
   "execution_count": 44,
   "metadata": {},
   "outputs": [],
   "source": [
    "ethinicity = inp_df[['Ethnicity','Video Name']].groupby(['Ethnicity','Video Name']).size().unstack().unstack()\n",
    "emotion = inp_df[['Emotion','Video Name']].groupby(['Emotion','Video Name']).size().unstack().unstack()"
   ]
  },
  {
   "cell_type": "code",
   "execution_count": 45,
   "metadata": {},
   "outputs": [],
   "source": [
    "inputs_df = inp_df[['Country','Video Name']].groupby(['Video Name','Country']).size().unstack()\n",
    "inputs_df['Video Name'] = inputs_df.index.values"
   ]
  },
  {
   "cell_type": "code",
   "execution_count": 86,
   "metadata": {},
   "outputs": [],
   "source": [
    "temp_df = inp_df[['Length of the Ad','Video Name']].groupby(['Video Name','Length of the Ad']).size().unstack()\n",
    "inputs_df['length_of_ad_15'] = temp_df[temp_df.columns[0]].values\n",
    "inputs_df.loc[inputs_df.length_of_ad_15.isnull(),'length_of_ad_15'] = 0\n",
    "inputs_df.loc[inputs_df.length_of_ad_15 != 0,'length_of_ad_15'] = 1"
   ]
  },
  {
   "cell_type": "code",
   "execution_count": 88,
   "metadata": {},
   "outputs": [],
   "source": [
    "temp_df = inp_df[['AD Type: TV/DIGITAL','Video Name']].groupby(['Video Name','AD Type: TV/DIGITAL']).size().unstack()\n",
    "inputs_df['ad_type_tv'] = temp_df[temp_df.columns[1]].values\n",
    "inputs_df.loc[inputs_df.ad_type_tv.isnull(),'ad_type_tv'] = 0\n",
    "inputs_df.loc[inputs_df.ad_type_tv != 0,'ad_type_tv'] = 1"
   ]
  },
  {
   "cell_type": "code",
   "execution_count": 48,
   "metadata": {
    "scrolled": true
   },
   "outputs": [],
   "source": [
    "inp_df['Age'] = inp_df['Age-Gender']\n",
    "inp_df['Gender'] = inp_df['Age-Gender']\n",
    "for i in range(len(inp_df['Age-Gender'])):\n",
    "    if len(inp_df['Age'][i].split(',')) == 2:\n",
    "        inp_df.loc[i,'Age'] = inp_df.loc[i,'Age-Gender'].split(',')[0]\n",
    "        inp_df.loc[i,'Age'] = (int(inp_df.Age[i].split(\":\")[1].split(\"-\")[0]) + int(inp_df.Age[i].split(\":\")[1].split(\"-\")[1].replace(\"'\",\"\")))/2\n",
    "        inp_df.loc[i,'Gender'] = inp_df.loc[i,'Age-Gender'].split(',')[1]\n",
    "    else:\n",
    "        inp_df.loc[i,'Age'] = float('nan')\n",
    "        \n",
    "inp_df.Age = inp_df.Age.astype('float')\n",
    "age_df = inp_df[['Video Name','Age']]\n",
    "age_df_vid = inp_df[['Video Name','Age']].groupby(['Video Name','Age']).size().unstack()"
   ]
  },
  {
   "cell_type": "code",
   "execution_count": 49,
   "metadata": {},
   "outputs": [],
   "source": [
    "inputs_df = inputs_df.set_index(inputs_df['Video Name'])"
   ]
  },
  {
   "cell_type": "code",
   "execution_count": 50,
   "metadata": {
    "scrolled": true
   },
   "outputs": [
    {
     "name": "stderr",
     "output_type": "stream",
     "text": [
      "/home/internbmilap562/anaconda3/lib/python3.7/site-packages/ipykernel_launcher.py:1: FutureWarning: Sorting because non-concatenation axis is not aligned. A future version\n",
      "of pandas will change to not sort by default.\n",
      "\n",
      "To accept the future behavior, pass 'sort=False'.\n",
      "\n",
      "To retain the current behavior and silence the warning, pass 'sort=True'.\n",
      "\n",
      "  \"\"\"Entry point for launching an IPython kernel.\n"
     ]
    }
   ],
   "source": [
    "inputs_df = pd.concat((inputs_df,age_df_vid),axis=1)"
   ]
  },
  {
   "cell_type": "code",
   "execution_count": 51,
   "metadata": {
    "scrolled": true
   },
   "outputs": [],
   "source": [
    "inputs_df[['Age: 0-5_frame_count','Age: 5-15_frame_count','Age: 15-24_frame_count','Age: 25-34_frame_count','Age: 35-44_frame_count','Age: 45-60_frame_count']]=inputs_df[[2.5,7.5,19.5,29.5,39.5,52.5]]"
   ]
  },
  {
   "cell_type": "code",
   "execution_count": 52,
   "metadata": {},
   "outputs": [],
   "source": [
    "inputs_df = inputs_df.drop([2.5,7.5,19.5,29.5,39.5,52.5],1)"
   ]
  },
  {
   "cell_type": "code",
   "execution_count": 53,
   "metadata": {},
   "outputs": [],
   "source": [
    "temp_df = inp_df[['Gender','Video Name']].groupby(['Video Name','Gender']).size().unstack(fill_value =0).drop('No Face Found',1)"
   ]
  },
  {
   "cell_type": "code",
   "execution_count": 54,
   "metadata": {},
   "outputs": [],
   "source": [
    "def lower(row,col):\n",
    "    row[col] = row[col].lower()\n",
    "    return row"
   ]
  },
  {
   "cell_type": "code",
   "execution_count": 55,
   "metadata": {},
   "outputs": [],
   "source": [
    "def add(x):\n",
    "    return x[0]+x[1]"
   ]
  },
  {
   "cell_type": "code",
   "execution_count": 56,
   "metadata": {
    "scrolled": true
   },
   "outputs": [],
   "source": [
    "def agg_logo_text_data(columns_):\n",
    "    logo_df = pd.DataFrame()\n",
    "    for c in columns_:\n",
    "        print(c)\n",
    "        if c=='Microsoft-Logo':\n",
    "            inp_df[inp_df[c].isna()==False] = inp_df[inp_df[c].isna()==False].apply(lambda x: lower(x,c),1)  \n",
    "        temp_logo_df = inp_df[[c,'Video Name']].groupby(['Video Name',c]).size().unstack(fill_value = 0)\n",
    "        #else:\n",
    "        #    logo_df = pd.concat([logo_df,inp_df[[c,'Video Name']].groupby(['Video Name',c]).size().unstack(fill_value = 0)],axis=1)\n",
    "\n",
    "        ## Duration\n",
    "        dur_df = temp_logo_df*0.5\n",
    "        var_cols =temp_logo_df.columns.values\n",
    "        #print(var_cols)\n",
    "        dur_df.columns = temp_logo_df.columns.values + '_dur'\n",
    "        \n",
    "        if len(logo_df) == 0:\n",
    "            logo_df = pd.concat([temp_logo_df,dur_df],axis=1)\n",
    "        else:\n",
    "            frame_dur_df = pd.concat([temp_logo_df,dur_df],axis=1)\n",
    "            logo_df = pd.concat([logo_df,frame_dur_df],axis=1)\n",
    "\n",
    "        ## Occurences\n",
    "\n",
    "\n",
    "        vids = temp_logo_df.index\n",
    "    #     for unq_val in range(len(inp_df.loc[:,c].unique())):\n",
    "\n",
    "    #         if str(inp_df.loc[:,c].unique()[unq_val]) != 'nan':\n",
    "    #             #print(unq_val)\n",
    "        unq_val = 1\n",
    "        ocr_list = list(itertools.product(var_cols,['_first_ocr','_last_ocr','_total_ocr'])) \n",
    "        ocr_cols = map(add,ocr_list)\n",
    "        ocr_df = pd.DataFrame(columns = list(ocr_cols))\n",
    "        for v in range(len(vids)):\n",
    "    #                 print(inp_df.loc[:,c].unique()[unq_val])\n",
    "    #                 print(len(inp_df.loc[inp_df['Video Name'] == vids[v],c].unique()))\n",
    "            first_ocr =[None]*len(var_cols)\n",
    "            last_ocr =[None]*len(var_cols)\n",
    "            total_ocr =[None]*len(var_cols)\n",
    "\n",
    "            if len(inp_df.loc[inp_df['Video Name'] == vids[v],c].unique()) >1:\n",
    "                #print(inp_df.loc[inp_df['Video Name'] == vids[v],c].unique())\n",
    "                for k,var in enumerate(var_cols):\n",
    "                    ocr_op =   [i for i,x in enumerate(inp_df.loc[inp_df['Video Name'] == vids[v],c]) if x==var]\n",
    "    #                 print(ocr_op)\n",
    "\n",
    "                    if len(ocr_op) > 0:\n",
    "                        ocr_df.loc[v,str(var_cols[k]+'_first_ocr')] = ocr_op[0]*0.5\n",
    "                        ocr_df.loc[v,str(var_cols[k]+'_last_ocr')] = ocr_op[-1]*0.5\n",
    "                        ocr_df.loc[v,str(var_cols[k]+'_total_ocr')] = len([x for x in list(np.diff(ocr_op)) if x != 1]) +1\n",
    "                    else:\n",
    "                        ocr_df.loc[v,str(var_cols[k]+'_first_ocr')] = None\n",
    "                        ocr_df.loc[v,str(var_cols[k]+'_last_ocr')] = None\n",
    "                        ocr_df.loc[v,str(var_cols[k]+'_total_ocr')] = None\n",
    "\n",
    "            else:\n",
    "                ocr_df.loc[v,str(var_cols[0]+'_first_ocr')] = None\n",
    "                ocr_df.loc[v,str(var_cols[0]+'_last_ocr')] = None\n",
    "                ocr_df.loc[v,str(var_cols[0]+'_total_ocr')] = None\n",
    "        ocr_df.index = vids\n",
    "        logo_df = pd.concat([logo_df,ocr_df],axis=1)\n",
    "            #print(logo_df)\n",
    "    return logo_df"
   ]
  },
  {
   "cell_type": "code",
   "execution_count": 57,
   "metadata": {
    "scrolled": true
   },
   "outputs": [
    {
     "name": "stdout",
     "output_type": "stream",
     "text": [
      "Microsoft-Logo\n",
      "Intel_Logo\n",
      "Sub-Brands\n"
     ]
    },
    {
     "name": "stderr",
     "output_type": "stream",
     "text": [
      "/home/internbmilap562/anaconda3/lib/python3.7/site-packages/ipykernel_launcher.py:21: FutureWarning: Sorting because non-concatenation axis is not aligned. A future version\n",
      "of pandas will change to not sort by default.\n",
      "\n",
      "To accept the future behavior, pass 'sort=False'.\n",
      "\n",
      "To retain the current behavior and silence the warning, pass 'sort=True'.\n",
      "\n",
      "/home/internbmilap562/anaconda3/lib/python3.7/site-packages/ipykernel_launcher.py:62: FutureWarning: Sorting because non-concatenation axis is not aligned. A future version\n",
      "of pandas will change to not sort by default.\n",
      "\n",
      "To accept the future behavior, pass 'sort=False'.\n",
      "\n",
      "To retain the current behavior and silence the warning, pass 'sort=True'.\n",
      "\n"
     ]
    },
    {
     "name": "stdout",
     "output_type": "stream",
     "text": [
      "Other-text\n"
     ]
    }
   ],
   "source": [
    "logo_df = agg_logo_text_data(['Microsoft-Logo','Intel_Logo','Sub-Brands','Other-text'])"
   ]
  },
  {
   "cell_type": "code",
   "execution_count": 58,
   "metadata": {},
   "outputs": [],
   "source": [
    "agg_inp = pd.DataFrame()\n",
    "agg_inp['Video Name'] = inputs_df.index.values\n",
    "inputs_df = inputs_df.set_index(agg_inp.index.values)\n",
    "agg_inp[['Country_AU','Country_US','Country_UK']] = inputs_df[['AU','US','UK']]"
   ]
  },
  {
   "cell_type": "code",
   "execution_count": 59,
   "metadata": {
    "scrolled": true
   },
   "outputs": [],
   "source": [
    "ethinicity = ethinicity.unstack()[['African','Caucasian','Eastasian','Latino']].set_index(agg_inp.index.values)\n",
    "emotion = emotion.unstack()[['Angry','Disgust','Fear','Happiness','Neutral','Sadness','Surprise']].set_index(agg_inp.index.values)"
   ]
  },
  {
   "cell_type": "code",
   "execution_count": 60,
   "metadata": {},
   "outputs": [],
   "source": [
    "agg_inp[['African_frame_count','Caucasian_frame_count','Eastasian_frame_count','Latino_frame_count']] = ethinicity[['African','Caucasian','Eastasian','Latino']]\n",
    "agg_inp[['Angry_frame_count','Disgust_frame_count','Fear_frame_count','Happiness_frame_count','Neutral_frame_count','Sadness_frame_count','Surprise_frame_count']] = emotion[['Angry','Disgust','Fear','Happiness','Neutral','Sadness','Surprise']]"
   ]
  },
  {
   "cell_type": "code",
   "execution_count": 61,
   "metadata": {},
   "outputs": [],
   "source": [
    "agg_inp[['length_of_ad_15','ad_type_tv','Age: 0-5_frame_count','Age: 5-15_frame_count','Age: 15-24_frame_count','Age: 25-34_frame_count','Age: 35-44_frame_count','Age: 45-60_frame_count']] = inputs_df[['length_of_ad_15','ad_type_tv','Age: 0-5_frame_count','Age: 5-15_frame_count','Age: 15-24_frame_count','Age: 25-34_frame_count','Age: 35-44_frame_count','Age: 45-60_frame_count']]"
   ]
  },
  {
   "cell_type": "code",
   "execution_count": 62,
   "metadata": {},
   "outputs": [],
   "source": [
    "temp_df = temp_df.set_index(agg_inp.index.values)"
   ]
  },
  {
   "cell_type": "code",
   "execution_count": 63,
   "metadata": {},
   "outputs": [],
   "source": [
    "agg_inp[[\"Female_frame_count\",\"Male_frame_count\"]] = temp_df[[\" 'Female']\",\" 'Male']\"]]"
   ]
  },
  {
   "cell_type": "code",
   "execution_count": 64,
   "metadata": {},
   "outputs": [],
   "source": [
    "# logo_df.index.values == agg_inp['Video Name']"
   ]
  },
  {
   "cell_type": "code",
   "execution_count": 65,
   "metadata": {},
   "outputs": [],
   "source": [
    "# logo_df['Video Name'] = logo_df.index.values\n",
    "# logo_df = logo_df.drop('Video Name',1)"
   ]
  },
  {
   "cell_type": "code",
   "execution_count": 66,
   "metadata": {},
   "outputs": [],
   "source": [
    "agg_inp = agg_inp.set_index(agg_inp['Video Name'])"
   ]
  },
  {
   "cell_type": "code",
   "execution_count": 67,
   "metadata": {
    "scrolled": true
   },
   "outputs": [
    {
     "name": "stderr",
     "output_type": "stream",
     "text": [
      "/home/internbmilap562/anaconda3/lib/python3.7/site-packages/ipykernel_launcher.py:1: FutureWarning: Sorting because non-concatenation axis is not aligned. A future version\n",
      "of pandas will change to not sort by default.\n",
      "\n",
      "To accept the future behavior, pass 'sort=False'.\n",
      "\n",
      "To retain the current behavior and silence the warning, pass 'sort=True'.\n",
      "\n",
      "  \"\"\"Entry point for launching an IPython kernel.\n"
     ]
    }
   ],
   "source": [
    "agg_inp = pd.concat((agg_inp,logo_df),axis=1)"
   ]
  },
  {
   "cell_type": "code",
   "execution_count": 68,
   "metadata": {},
   "outputs": [],
   "source": [
    "def countryEncoding(x):\n",
    "    for c in ['Country_AU','Country_US','Country_UK']:\n",
    "        if x[c]>0:\n",
    "            x[c] = 1\n",
    "        else:\n",
    "            x[c] =0\n",
    "    return x"
   ]
  },
  {
   "cell_type": "code",
   "execution_count": 69,
   "metadata": {},
   "outputs": [],
   "source": [
    "agg_inp = agg_inp.apply(countryEncoding,1)"
   ]
  },
  {
   "cell_type": "code",
   "execution_count": 70,
   "metadata": {},
   "outputs": [],
   "source": [
    "frame_col = [col for col in agg_inp.columns if '_frame_count' in col]"
   ]
  },
  {
   "cell_type": "code",
   "execution_count": 71,
   "metadata": {},
   "outputs": [],
   "source": [
    "for col in frame_col:\n",
    "    index = col.find('_frame_count')\n",
    "    new_col = col[:index]+'_dur'\n",
    "    agg_inp[new_col] = agg_inp[col]*0.5"
   ]
  },
  {
   "cell_type": "code",
   "execution_count": 72,
   "metadata": {},
   "outputs": [],
   "source": [
    "total_cols =['Video Name', 'Country_AU', 'Country_UK', 'Country_US',\n",
    "       'length_of_ad_15', 'ad_type_tv', 'Female_frame_count',\n",
    "       'Male_frame_count', 'Female_dur', 'Male_dur',\n",
    "       'Age: 5-15_frame_count', 'Age: 0-5_frame_count',\n",
    "       'Age: 15-24_frame_count', 'Age: 25-34_frame_count',\n",
    "       'Age: 35-44_frame_count', 'Age: 45-60_frame_count',\n",
    "       'Age: 5-15_dur', 'Age: 0-5_dur', 'Age: 15-24_dur',\n",
    "       'Age: 25-34_dur', 'Age: 35-44_dur', 'Age: 45-60_dur',\n",
    "       'Angry_frame_count', 'Disgust_frame_count', 'Fear_frame_count',\n",
    "       'Happiness_frame_count', 'Neutral_frame_count',\n",
    "       'Sadness_frame_count', 'Surprise_frame_count', 'Angry_dur',\n",
    "       'Disgust_dur', 'Fear_dur', 'Happiness_dur', 'Neutral_dur',\n",
    "       'Sadness_dur', 'Surprise_dur', 'African_frame_count',\n",
    "       'Caucasian_frame_count', 'Eastasian_frame_count',\n",
    "       'Latino_frame_count', 'African_dur', 'Caucasian_dur',\n",
    "       'Eastasian_dur', 'Latino_dur', 'microsoft', 'microsoft_dur',\n",
    "       'microsoft_first_ocr', 'microsoft_last_ocr', 'microsoft_total_ocr',\n",
    "       'Intel_dur', 'Intel_first_ocr', 'Intel_last_ocr',\n",
    "       'Intel_total_ocr', 'ASUS T102', 'Dell PCs', 'Dell XPS',\n",
    "       'Dell XPS 13', 'HP Spectre x360', 'HP Spectre x360, Windows',\n",
    "       'Lenovo PCs', 'Lenovo Yoga 720', 'Lenovo Yoga 910', 'MacBook Air',\n",
    "       'MacBook Pro', 'Macbook Air', 'Microsoft Surface', 'Suface Laptop',\n",
    "       'Surface Book', 'Surface Go', 'Surface Laptop', 'Surface Pen',\n",
    "       'Surface Pro', 'Surface Pro 4',\n",
    "       'Surface Pro 4, Apple_MacBookAir13',\n",
    "       'Surface Pro 4, HP Spectre x360', 'Surface Pro 4, MacBook Air',\n",
    "       'Surface Pro 4, MacBook Air13, MacBook Air',\n",
    "       'Surface Pro 4, Surface Book', 'Surface Pro 4, Windows 10',\n",
    "       'Surface Pro 6', 'Surface laptop', 'Surface pro 4',\n",
    "       'The new Surface Pro', 'The surface Laptop', 'Windows',\n",
    "       'Windows 10', 'Windows 10 PC', 'Windows 10 PCs',\n",
    "       'Windows 10, HP_Spectre', 'Windows 10, Windows', 'Yoga',\n",
    "       'ASUS T102_dur', 'Dell PCs_dur', 'Dell XPS_dur', 'Dell XPS 13_dur',\n",
    "       'HP Spectre x360_dur', 'HP Spectre x360, Windows_dur',\n",
    "       'Lenovo PCs_dur', 'Lenovo Yoga 720_dur', 'Lenovo Yoga 910_dur',\n",
    "       'MacBook Air_dur', 'MacBook Pro_dur', 'Macbook Air_dur',\n",
    "       'Microsoft Surface_dur', 'Suface Laptop_dur', 'Surface Book_dur',\n",
    "       'Surface Go_dur', 'Surface Laptop_dur', 'Surface Pen_dur',\n",
    "       'Surface Pro_dur', 'Surface Pro 4_dur',\n",
    "       'Surface Pro 4, Apple_MacBookAir13_dur',\n",
    "       'Surface Pro 4, HP Spectre x360_dur',\n",
    "       'Surface Pro 4, MacBook Air_dur',\n",
    "       'Surface Pro 4, MacBook Air13, MacBook Air_dur',\n",
    "       'Surface Pro 4, Surface Book_dur', 'Surface Pro 4, Windows 10_dur',\n",
    "       'Surface Pro 6_dur', 'Surface laptop_dur', 'Surface pro 4_dur',\n",
    "       'The new Surface Pro_dur', 'The surface Laptop_dur', 'Windows_dur',\n",
    "       'Windows 10_dur', 'Windows 10 PC_dur', 'Windows 10 PCs_dur',\n",
    "       'Windows 10, HP_Spectre_dur', 'Windows 10, Windows_dur',\n",
    "       'Yoga_dur', 'Windows 10_first_ocr', 'Windows 10_last_ocr',\n",
    "       'Windows 10_total_ocr', 'Lenovo Yoga 910_first_ocr',\n",
    "       'Lenovo Yoga 910_last_ocr', 'Lenovo Yoga 910_total_ocr',\n",
    "       'Yoga_first_ocr', 'Yoga_last_ocr', 'Yoga_total_ocr',\n",
    "       'Surface Pro 4_first_ocr', 'Surface Pro 4_last_ocr',\n",
    "       'Surface Pro 4_total_ocr',\n",
    "       'Surface Pro 4, Apple_MacBookAir13_first_ocr',\n",
    "       'Surface Pro 4, Apple_MacBookAir13_last_ocr',\n",
    "       'Surface Pro 4, Apple_MacBookAir13_total_ocr',\n",
    "       'Surface Pro 4, MacBook Air13, MacBook Air_first_ocr',\n",
    "       'Surface Pro 4, MacBook Air13, MacBook Air_last_ocr',\n",
    "       'Surface Pro 4, MacBook Air13, MacBook Air_total_ocr',\n",
    "       'Surface Book_first_ocr', 'Surface Book_last_ocr',\n",
    "       'Surface Book_total_ocr', 'MacBook Pro_first_ocr',\n",
    "       'MacBook Pro_last_ocr', 'MacBook Pro_total_ocr',\n",
    "       'Microsoft Surface_first_ocr', 'Microsoft Surface_last_ocr',\n",
    "       'Microsoft Surface_total_ocr', 'MacBook Air_first_ocr',\n",
    "       'MacBook Air_last_ocr', 'MacBook Air_total_ocr',\n",
    "       'Surface Pro 4, Surface Book_first_ocr',\n",
    "       'Surface Pro 4, Surface Book_last_ocr',\n",
    "       'Surface Pro 4, Surface Book_total_ocr', 'ASUS T102_first_ocr',\n",
    "       'ASUS T102_last_ocr', 'ASUS T102_total_ocr',\n",
    "       'Windows 10, HP_Spectre_first_ocr',\n",
    "       'Windows 10, HP_Spectre_last_ocr',\n",
    "       'Windows 10, HP_Spectre_total_ocr', 'HP Spectre x360_first_ocr',\n",
    "       'HP Spectre x360_last_ocr', 'HP Spectre x360_total_ocr',\n",
    "       'Surface Pro 4, Windows 10_first_ocr',\n",
    "       'Surface Pro 4, Windows 10_last_ocr',\n",
    "       'Surface Pro 4, Windows 10_total_ocr',\n",
    "       'Surface Pro 4, HP Spectre x360_first_ocr',\n",
    "       'Surface Pro 4, HP Spectre x360_last_ocr',\n",
    "       'Surface Pro 4, HP Spectre x360_total_ocr',\n",
    "       'Windows 10, Windows_first_ocr', 'Windows 10, Windows_last_ocr',\n",
    "       'Windows 10, Windows_total_ocr', 'Windows_first_ocr',\n",
    "       'Windows_last_ocr', 'Windows_total_ocr',\n",
    "       'HP Spectre x360, Windows_first_ocr',\n",
    "       'HP Spectre x360, Windows_last_ocr',\n",
    "       'HP Spectre x360, Windows_total_ocr', 'Dell XPS 13_first_ocr',\n",
    "       'Dell XPS 13_last_ocr', 'Dell XPS 13_total_ocr',\n",
    "       'Surface Pen_first_ocr', 'Surface Pen_last_ocr',\n",
    "       'Surface Pen_total_ocr', 'Macbook Air_first_ocr',\n",
    "       'Macbook Air_last_ocr', 'Macbook Air_total_ocr',\n",
    "       'Windows 10 PC_first_ocr', 'Windows 10 PC_last_ocr',\n",
    "       'Windows 10 PC_total_ocr', 'Windows 10 PCs_first_ocr',\n",
    "       'Windows 10 PCs_last_ocr', 'Windows 10 PCs_total_ocr',\n",
    "       'Surface Pro 4, MacBook Air_first_ocr',\n",
    "       'Surface Pro 4, MacBook Air_last_ocr',\n",
    "       'Surface Pro 4, MacBook Air_total_ocr', 'Surface pro 4_first_ocr',\n",
    "       'Surface pro 4_last_ocr', 'Surface pro 4_total_ocr',\n",
    "       'Lenovo Yoga 720_first_ocr', 'Lenovo Yoga 720_last_ocr',\n",
    "       'Lenovo Yoga 720_total_ocr', 'Dell PCs_first_ocr',\n",
    "       'Dell PCs_last_ocr', 'Dell PCs_total_ocr',\n",
    "       'Surface Laptop_first_ocr', 'Surface Laptop_last_ocr',\n",
    "       'Surface Laptop_total_ocr', 'The new Surface Pro_first_ocr',\n",
    "       'The new Surface Pro_last_ocr', 'The new Surface Pro_total_ocr',\n",
    "       'Surface Pro_first_ocr', 'Surface Pro_last_ocr',\n",
    "       'Surface Pro_total_ocr', 'Suface Laptop_first_ocr',\n",
    "       'Suface Laptop_last_ocr', 'Suface Laptop_total_ocr',\n",
    "       'Surface laptop_first_ocr', 'Surface laptop_last_ocr',\n",
    "       'Surface laptop_total_ocr', 'The surface Laptop_first_ocr',\n",
    "       'The surface Laptop_last_ocr', 'The surface Laptop_total_ocr',\n",
    "       'Surface Go_first_ocr', 'Surface Go_last_ocr',\n",
    "       'Surface Go_total_ocr', 'Surface Pro 6_first_ocr',\n",
    "       'Surface Pro 6_last_ocr', 'Surface Pro 6_total_ocr',\n",
    "       'Dell XPS_first_ocr', 'Dell XPS_last_ocr', 'Dell XPS_total_ocr',\n",
    "       'Lenovo PCs_first_ocr', 'Lenovo PCs_last_ocr',\n",
    "       'Lenovo PCs_total_ocr']"
   ]
  },
  {
   "cell_type": "code",
   "execution_count": 77,
   "metadata": {
    "scrolled": true
   },
   "outputs": [
    {
     "name": "stdout",
     "output_type": "stream",
     "text": [
      "Intel\n",
      "Asus\n",
      "Currys PCs world\n",
      "Dell\n",
      "Hp\n",
      "Lenovo\n",
      "Asus_dur\n",
      "Currys PCs world_dur\n",
      "Dell_dur\n",
      "Hp_dur\n",
      "Lenovo_dur\n",
      "Asus_first_ocr\n",
      "Asus_last_ocr\n",
      "Asus_total_ocr\n",
      "Currys PCs world_first_ocr\n",
      "Currys PCs world_last_ocr\n",
      "Currys PCs world_total_ocr\n",
      "Dell_first_ocr\n",
      "Dell_last_ocr\n",
      "Dell_total_ocr\n",
      "Hp_first_ocr\n",
      "Hp_last_ocr\n",
      "Hp_total_ocr\n",
      "Lenovo_first_ocr\n",
      "Lenovo_last_ocr\n",
      "Lenovo_total_ocr\n",
      "248\n"
     ]
    }
   ],
   "source": [
    "i=0;\n",
    "for c in agg_inp.columns.values:\n",
    "    if c in total_cols:\n",
    "        i+=1\n",
    "    else:\n",
    "        print(c)\n",
    "print(i)"
   ]
  }
 ],
 "metadata": {
  "kernelspec": {
   "display_name": "Python 3",
   "language": "python",
   "name": "python3"
  },
  "language_info": {
   "codemirror_mode": {
    "name": "ipython",
    "version": 3
   },
   "file_extension": ".py",
   "mimetype": "text/x-python",
   "name": "python",
   "nbconvert_exporter": "python",
   "pygments_lexer": "ipython3",
   "version": "3.7.3"
  }
 },
 "nbformat": 4,
 "nbformat_minor": 2
}
