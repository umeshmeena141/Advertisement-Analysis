{
 "cells": [
  {
   "cell_type": "code",
   "execution_count": 1,
   "metadata": {},
   "outputs": [],
   "source": [
    "from Model import Model\n",
    "import pandas as pd\n",
    "import numpy as np\n",
    "import itertools\n",
    "import shap\n",
    "from sklearn.model_selection import train_test_split\n",
    "from Parameters import Parameters\n",
    "\n",
    "t = Parameters('DT').training_reg_params\n",
    "\n",
    "%load_ext autoreload\n",
    "%autoreload 2"
   ]
  },
  {
   "cell_type": "code",
   "execution_count": 2,
   "metadata": {},
   "outputs": [],
   "source": [
    "model = Model('DT')"
   ]
  },
  {
   "cell_type": "code",
   "execution_count": 3,
   "metadata": {},
   "outputs": [],
   "source": [
    "# Y = pd.read_excel('../../Frame_Analysis/Microsoft Ad Optimization-AI Data_Survey Aggregated Data 21062019.xlsx',sheet_name=\"Sheet2\")\n",
    "# ub = Y[['Video Name','Unaided Branding']].groupby(['Video Name','Unaided Branding'])\n",
    "# Y_ub = ub.first()"
   ]
  },
  {
   "cell_type": "code",
   "execution_count": 4,
   "metadata": {},
   "outputs": [],
   "source": [
    "X,Y = model.preprocessing.load_data('../Agg_data_from_frame_163.xlsx',labels=False,sheet_name=\"Sheet1\")\n",
    "Y_ub = model.preprocessing.load_Y('./Agg_Unaided.xlsx',video_name=False,column_name=\"same\")\n",
    "Y_in = model.preprocessing.load_Y('../Updated_targets_300519.xlsx',video_name=False,column_name=\"diff\")"
   ]
  },
  {
   "cell_type": "code",
   "execution_count": 5,
   "metadata": {},
   "outputs": [],
   "source": [
    "Y = pd.DataFrame(index=Y_ub.index.values,columns=['Unaided_Branding'],data=Y_ub.values)\n",
    "# Y['Unaided_Branding'] = Y_ub\n",
    "Y.loc[Y.index.values,'Active_Involvement_Mean'] = Y_in.loc[Y.index.values,['Active_Involvement__Mean']].values"
   ]
  },
  {
   "cell_type": "code",
   "execution_count": 6,
   "metadata": {},
   "outputs": [],
   "source": [
    "X = X.set_index(X['Video Name'])\n",
    "X = X.drop('Unnamed: 0',1)\n",
    "# Y_old['Video Name'] = Y_old.index.values\n",
    "# Y_new['Video Name'] = Y_new.index.values\n",
    "\n",
    "# Y_new = Y_new[Y_new['Video Name']!= 'Surface Laptop_UK_30_Courtney v2 US VO_TV']\n",
    "# Y_new = Y_new[Y_new['Video Name']!='284 Surface Laptop_UK_30_Courtney v2 US VO_TV' ]\n",
    "# Y_new = Y_new.drop('Video Name',1)\n",
    "# Y = pd.concat((Y_old,Y_new),axis=1)\n",
    "X = X.loc[X['Campaign']=='Software']\n",
    "Y =  Y.rename(str,{'Unaided Branding':'Unaided_Branding'})\n",
    "Y = Y.loc[X.index.values,:]"
   ]
  },
  {
   "cell_type": "code",
   "execution_count": 7,
   "metadata": {
    "scrolled": true
   },
   "outputs": [],
   "source": [
    "Y.dropna(how='all')\n",
    "# X = X.drop('Song for Surface NFL Fans - Surface SP4 30 TV US',0)\n",
    "X,Y= model.preprocessing.clean_data(X,Y)"
   ]
  },
  {
   "cell_type": "code",
   "execution_count": 8,
   "metadata": {},
   "outputs": [],
   "source": [
    "surface_pro_frames = [col for col in X.columns if \"Surface Pro\".lower() in col.lower()]\n",
    "# for suf in ['_dur','_first_ocr','_last_ocr','_total_ocr']:\n",
    "#     cols = [col+suf for col in surface_pro_frames[:10]]\n",
    "#     X = model.preprocessing.addNewFeature(X,cols,_type=\"sum\",new_column_name=\"Surface\"+suf)\n",
    "# X = X.drop(surface_pro_frames,axis=1)"
   ]
  },
  {
   "cell_type": "code",
   "execution_count": 9,
   "metadata": {},
   "outputs": [],
   "source": [
    "frame_count_columns = [col for col in X.columns.values if '_dur' in col]\n",
    "columns_removed =[]\n",
    "for x in X.columns.values:\n",
    "    if '_frame_count' in x:\n",
    "        columns_removed.append(x)\n",
    "cols = [col[:-12] for col in columns_removed]\n",
    "for x in frame_count_columns:\n",
    "#     if x+'_dur' in X.columns.values or '_frame_count' in x:\n",
    "    if x[:-4] not in cols:\n",
    "        columns_removed.append(x[:-4])\n",
    "columns_removed.remove('Intel')\n",
    "# columns_removed.remove('Surface_group')"
   ]
  },
  {
   "cell_type": "code",
   "execution_count": 10,
   "metadata": {},
   "outputs": [
    {
     "data": {
      "text/html": [
       "['African_frame_count', 'Caucasian_frame_count', 'Eastasian_frame_count', 'Latino_frame_count', 'Angry_frame_count', 'Disgust_frame_count', 'Fear_frame_count', 'Happiness_frame_count', 'Neutral_frame_count', 'Sadness_frame_count', 'Surprise_frame_count', 'Age: 0-15_frame_count', 'Age: 15-24_frame_count', 'Age: 25-34_frame_count', 'Age: 35-44_frame_count', 'Age: 45-60_frame_count', 'Female_frame_count', 'Male_frame_count', 'microsoft', 'ASUS T102', 'Dell_sub_brand_group', 'HP_group', 'Lenovo_group', 'Macbook_group', 'Surface_group', 'Windows', 'Yoga', 'Asus_text', 'Currys PCs world_text', 'Dell_text', 'Hp_text', 'Lenovo_text', 'Apple', 'Asus', 'Dell', 'Hp', 'Microsoft_text', 'Laptop', 'Tablet', 'Mobile', 'PC']"
      ],
      "text/plain": [
       "['African_frame_count',\n",
       " 'Caucasian_frame_count',\n",
       " 'Eastasian_frame_count',\n",
       " 'Latino_frame_count',\n",
       " 'Angry_frame_count',\n",
       " 'Disgust_frame_count',\n",
       " 'Fear_frame_count',\n",
       " 'Happiness_frame_count',\n",
       " 'Neutral_frame_count',\n",
       " 'Sadness_frame_count',\n",
       " 'Surprise_frame_count',\n",
       " 'Age: 0-15_frame_count',\n",
       " 'Age: 15-24_frame_count',\n",
       " 'Age: 25-34_frame_count',\n",
       " 'Age: 35-44_frame_count',\n",
       " 'Age: 45-60_frame_count',\n",
       " 'Female_frame_count',\n",
       " 'Male_frame_count',\n",
       " 'microsoft',\n",
       " 'ASUS T102',\n",
       " 'Dell_sub_brand_group',\n",
       " 'HP_group',\n",
       " 'Lenovo_group',\n",
       " 'Macbook_group',\n",
       " 'Surface_group',\n",
       " 'Windows',\n",
       " 'Yoga',\n",
       " 'Asus_text',\n",
       " 'Currys PCs world_text',\n",
       " 'Dell_text',\n",
       " 'Hp_text',\n",
       " 'Lenovo_text',\n",
       " 'Apple',\n",
       " 'Asus',\n",
       " 'Dell',\n",
       " 'Hp',\n",
       " 'Microsoft_text',\n",
       " 'Laptop',\n",
       " 'Tablet',\n",
       " 'Mobile',\n",
       " 'PC']"
      ]
     },
     "execution_count": 10,
     "metadata": {},
     "output_type": "execute_result"
    }
   ],
   "source": [
    "X = X.drop(columns=columns_removed,axis=1)\n",
    "columns_removed"
   ]
  },
  {
   "cell_type": "code",
   "execution_count": 11,
   "metadata": {},
   "outputs": [],
   "source": [
    "new_features =[[\"Happiness_dur\",'Female_dur'],[\"Surprise_dur\",\"Male_dur\"],[\"Neutral_dur\",\"Male_dur\"],[\"Happiness_dur\",\"Age: 0-5_dur\"],[\"Disgust_dur\",\"Age: 45-60_dur\"],[\"Surprise_dur\",\"Age: 0-5_dur\"],[\"Neutral_dur\",\"Age: 25-34_dur\"],[\"Happiness_dur\",\"Eastasian_dur\"],[\"Surprise_dur\",\"Eastasian_dur\"]]\n",
    "age_cols = ['Age: 0-15_dur', 'Age: 15-24_dur','Age: 25-34_dur', 'Age: 35-44_dur', 'Age: 45-60_dur']\n",
    "ethinicity_cols = ['African_dur', 'Caucasian_dur', 'Eastasian_dur','Latino_dur']\n",
    "gender_cols = [\"Female_dur\",\"Male_dur\"]\n",
    "emotion_cols = [\"Happiness_dur\",\"Surprise_dur\",\"Neutral_dur\",\"Sadness_dur\"]\n",
    "# age_ethinicity_col = list(itertools.product(age_cols,ethinicity_cols))\n",
    "# new_features.extend(age_ethinicity_col)\n",
    "# X = model.preprocessing.addNewFeature(X,new_features,_type='per')\n",
    "# X['Happiness_length_of_ad_impact'] = X['Happiness_dur'] * (1-X['length_of_ad_15'])"
   ]
  },
  {
   "cell_type": "code",
   "execution_count": 12,
   "metadata": {},
   "outputs": [],
   "source": [
    "X = X.drop(age_cols,1)\n",
    "X = X.drop(ethinicity_cols,1)\n",
    "X = X.drop(gender_cols,1)\n",
    "X = X.drop(emotion_cols,1)"
   ]
  },
  {
   "cell_type": "code",
   "execution_count": 13,
   "metadata": {},
   "outputs": [
    {
     "data": {
      "text/plain": [
       "Tablet_total_ocr     79.545455\n",
       "Tablet_first_ocr     79.545455\n",
       "Tablet_dur           79.545455\n",
       "Tablet_last_ocr      79.545455\n",
       "Hp_text_total_ocr    72.727273\n",
       "dtype: float64"
      ]
     },
     "execution_count": 13,
     "metadata": {},
     "output_type": "execute_result"
    }
   ],
   "source": [
    "model.preprocessing.checkNull(X).head()\n",
    "X= model.preprocessing.removeNULLColumns(X,percentage=0.8)\n",
    "model.preprocessing.checkNull(X).head()"
   ]
  },
  {
   "cell_type": "code",
   "execution_count": 14,
   "metadata": {},
   "outputs": [],
   "source": [
    "ocr_columns = [col for col in X.columns if \"ocr\" in col]\n",
    "\n",
    "X[ocr_columns] = model.preprocessing.imputeConstant(X,columns=ocr_columns,constant=-1)\n",
    "X = model.preprocessing.replace(X,np.inf,np.nan)"
   ]
  },
  {
   "cell_type": "code",
   "execution_count": 15,
   "metadata": {},
   "outputs": [],
   "source": [
    "X = model.preprocessing.imputeConstant(X,constant=0)\n",
    "X = X.fillna(0)"
   ]
  },
  {
   "cell_type": "code",
   "execution_count": 16,
   "metadata": {},
   "outputs": [],
   "source": [
    "def bin_first_ocr(x):\n",
    "    df = pd.DataFrame(index=[0],columns=x.index)\n",
    "#     print(df)\n",
    "    for i,col in enumerate(x):\n",
    "        if col ==-1:\n",
    "            df.loc[0,x.index[i]] = -1\n",
    "        elif col <=1:\n",
    "            df.loc[0,x.index[i]] = 0\n",
    "        elif col<=6.5:\n",
    "            df.loc[0,x.index[i]] = 1\n",
    "        elif col<=14:\n",
    "            df.loc[0,x.index[i]] =2\n",
    "        else:\n",
    "            df.loc[0,x.index[i]] =3\n",
    "    return df\n",
    "\n",
    "def bin_dur(x):\n",
    "    df = pd.DataFrame(index=[0],columns=x.index)\n",
    "    for i,col in enumerate(x):\n",
    "        if col <=4:\n",
    "            df.loc[0,x.index[i]]=0\n",
    "        elif col <=5.5:\n",
    "            df.loc[0,x.index[i]] =1\n",
    "        elif col<=7:\n",
    "            df.loc[0,x.index[i]] =2 \n",
    "        else:\n",
    "            df.loc[0,x.index[i]] = 3\n",
    "    return df\n",
    "\n",
    "def bin_last_ocr(x):\n",
    "    df = pd.DataFrame(index=[0],columns=x.index)\n",
    "    for i,col in enumerate(x):\n",
    "        if col == -1:\n",
    "            df.loc[0,x.index[i]] =-1\n",
    "        elif col <= 15:\n",
    "            df.loc[0,x.index[i]] = 0\n",
    "        elif col<=24:\n",
    "            df.loc[0,x.index[i]] = 1\n",
    "        else:\n",
    "            df.loc[0,x.index[i]]  = 2\n",
    "    return df"
   ]
  },
  {
   "cell_type": "code",
   "execution_count": 17,
   "metadata": {},
   "outputs": [],
   "source": [
    "first_ocr = [col for col in X.columns if 'first_ocr' in col]\n",
    "last_ocr =  [col for col in X.columns if 'last_ocr' in col]\n",
    "dur = [col for col in X.columns if '_dur' in col]"
   ]
  },
  {
   "cell_type": "code",
   "execution_count": 18,
   "metadata": {},
   "outputs": [],
   "source": [
    "f = X[first_ocr].apply(bin_first_ocr,1)\n",
    "l = X[last_ocr].apply(bin_last_ocr,1)\n",
    "d = X[dur].apply(bin_dur,1)\n",
    "for i,ind in enumerate(f.index.values):\n",
    "#     f[0] = f[0].set_index(ind)\n",
    "    for j,col in enumerate(first_ocr):\n",
    "        X.loc[ind,col] = f[i].values[0][j]\n",
    "    for j,col in enumerate(last_ocr):\n",
    "        X.loc[ind,col] = l[i].values[0][j]\n",
    "    \n",
    "    for j,col in enumerate(dur):\n",
    "        X.loc[ind,col] = d[i].values[0][j]    \n"
   ]
  },
  {
   "cell_type": "code",
   "execution_count": 19,
   "metadata": {},
   "outputs": [],
   "source": [
    "from sklearn.preprocessing import OneHotEncoder\n",
    "ohe_first_cols = OneHotEncoder(handle_unknown=\"ignore\",categories=[[-1,0,1,2,3]]*len(first_ocr))\n",
    "ohe_last_cols = OneHotEncoder(handle_unknown=\"ignore\",categories=[[-1,0,1,2]]*len(last_ocr))\n",
    "ohe_dur_cols = OneHotEncoder(handle_unknown=\"ignore\",categories=[[0,1,2,3]]*len(dur))"
   ]
  },
  {
   "cell_type": "code",
   "execution_count": 20,
   "metadata": {},
   "outputs": [],
   "source": [
    "f_ohe = ohe_first_cols.fit_transform(X[first_ocr]).toarray()\n",
    "l_ohe = ohe_last_cols.fit_transform(X[last_ocr]).toarray()\n",
    "d_ohe = ohe_dur_cols.fit_transform(X[dur]).toarray()"
   ]
  },
  {
   "cell_type": "code",
   "execution_count": 21,
   "metadata": {},
   "outputs": [],
   "source": [
    "first_cols = [\"_no_ocr\",\"_0_1\",\"_1.5_6.5\",\"_7_14\",\"_above_14\"]\n",
    "last_cols = [\"_0_4\",\"_4.5_5.5\",\"_6_7\",\"_above_7.5\"]\n",
    "dur_cols = [\"_no_ocr\",\"_0_14\",\"_15_24\",\"_above_25\"]\n",
    "first_ohe,last_ohe,dur_ohe=[],[],[]\n",
    "for prefix in first_ocr:\n",
    "    for suffix in first_cols:\n",
    "        first_ohe.append(prefix+suffix)\n",
    "        \n",
    "for prefix in last_ocr:\n",
    "    for suffix in last_cols:\n",
    "        last_ohe.append(prefix+suffix)\n",
    "        \n",
    "for prefix in dur:\n",
    "    for suffix in dur_cols:\n",
    "        dur_ohe.append(prefix+suffix)"
   ]
  },
  {
   "cell_type": "code",
   "execution_count": 22,
   "metadata": {},
   "outputs": [],
   "source": [
    "ohe_df =pd.DataFrame(columns=first_ohe,data=f_ohe,index=X[first_ocr].index)\n",
    "ohe_df = pd.concat((ohe_df,pd.DataFrame(columns=last_ohe,data=l_ohe,index=X[last_ocr].index)),axis=1)\n",
    "ohe_df = pd.concat((ohe_df,pd.DataFrame(columns=dur_ohe,data=d_ohe,index=X[dur].index)),axis=1)"
   ]
  },
  {
   "cell_type": "code",
   "execution_count": 23,
   "metadata": {},
   "outputs": [],
   "source": [
    "X = pd.concat((X,ohe_df),1)\n",
    "X = X.drop(first_ocr,1)\n",
    "X = X.drop(last_ocr,1)\n",
    "X = X.drop(dur,1)"
   ]
  },
  {
   "cell_type": "code",
   "execution_count": 24,
   "metadata": {},
   "outputs": [
    {
     "data": {
      "text/plain": [
       "(44, 142)"
      ]
     },
     "execution_count": 24,
     "metadata": {},
     "output_type": "execute_result"
    }
   ],
   "source": [
    "X.shape"
   ]
  },
  {
   "cell_type": "code",
   "execution_count": 25,
   "metadata": {
    "scrolled": false
   },
   "outputs": [
    {
     "data": {
      "text/plain": [
       "Unaided_Branding           0\n",
       "Active_Involvement_Mean    0\n",
       "dtype: int64"
      ]
     },
     "execution_count": 25,
     "metadata": {},
     "output_type": "execute_result"
    }
   ],
   "source": [
    "# Y = model.preprocessing.imputeMedian(Y,model.preprocessing.targets)\n",
    "Y.isna().sum()"
   ]
  },
  {
   "cell_type": "code",
   "execution_count": 26,
   "metadata": {},
   "outputs": [],
   "source": [
    "# Y_14 = Y.loc[:,Y.isna().sum()==0]\n",
    "# Y_4 = Y.loc[:,Y.isna().sum()!=0]\n",
    "# X_4 = X[Y_4['Unaided_Branding'].isna()==False]\n",
    "# Y_4 = Y_4[Y_4['Unaided_Branding'].isna()==False]"
   ]
  },
  {
   "cell_type": "code",
   "execution_count": 27,
   "metadata": {},
   "outputs": [],
   "source": [
    "X_res_1,Y_res_1 = model.preprocessing.overSampling(X,Y,each_Col=False,size=1000,random_state=12)\n",
    "X_train_1,X_test_1,y_train_1,y_test_1= train_test_split(X_res_1,Y_res_1,random_state = 123,test_size=0.3)\n",
    "\n",
    "# X_res_4,Y_res_4 = model.preprocessing.overSampling(X_4,Y_4,each_Col=False,size=1000,random_state=12)\n",
    "# X_train_4,X_test_4,y_train_4,y_test_4 = train_test_split(X_res_4,Y_res_4,random_state = 123,test_size=0.3)"
   ]
  },
  {
   "cell_type": "code",
   "execution_count": 28,
   "metadata": {
    "scrolled": true
   },
   "outputs": [
    {
     "name": "stdout",
     "output_type": "stream",
     "text": [
      "------------------------ 1 Models Training ----------------------------\n",
      "\n",
      "Unaided_Branding\n"
     ]
    },
    {
     "name": "stderr",
     "output_type": "stream",
     "text": [
      "[Parallel(n_jobs=-1)]: Using backend LokyBackend with 8 concurrent workers.\n",
      "[Parallel(n_jobs=-1)]: Done   2 out of   5 | elapsed:    1.1s remaining:    1.6s\n",
      "[Parallel(n_jobs=-1)]: Done   5 out of   5 | elapsed:    1.3s finished\n",
      "[Parallel(n_jobs=-1)]: Using backend LokyBackend with 8 concurrent workers.\n"
     ]
    },
    {
     "name": "stdout",
     "output_type": "stream",
     "text": [
      "For training set\n",
      "r2_score: 0.833011\n",
      "For test set\n",
      "r2_score: 0.909502\n",
      "\n",
      "\n",
      "Active_Involvement_Mean\n"
     ]
    },
    {
     "name": "stderr",
     "output_type": "stream",
     "text": [
      "[Parallel(n_jobs=-1)]: Done   2 out of   5 | elapsed:    0.0s remaining:    0.1s\n"
     ]
    },
    {
     "name": "stdout",
     "output_type": "stream",
     "text": [
      "For training set\n",
      "r2_score: 0.665789\n",
      "For test set\n",
      "r2_score: 0.718768\n",
      "\n",
      "\n"
     ]
    },
    {
     "name": "stderr",
     "output_type": "stream",
     "text": [
      "[Parallel(n_jobs=-1)]: Done   5 out of   5 | elapsed:    0.6s finished\n"
     ]
    }
   ],
   "source": [
    "# print(\"------------------------ 14 Models Training ----------------------------\\n\")\n",
    "# models_14 = model.train(X_train_14,y_train_14,X_test_14,y_test_14,metrics='r2',plot_error=False,set_params=True,params=t)\n",
    "print(\"------------------------ 1 Models Training ----------------------------\\n\")\n",
    "models_1 = model.train(X_train_1,y_train_1,X_test_1,y_test_1,metrics='r2',plot_error=False,set_params=True,params={'Unaided_Branding': {'splitter':'best','max_depth': 10, 'max_features': 0.6, 'min_samples_leaf': 15,'min_samples_split':15,'presort':True},'Active_Involvement_Mean':{'max_depth': 10, 'max_features': 0.8, 'min_samples_leaf': 15,'presort':True}})"
   ]
  },
  {
   "cell_type": "code",
   "execution_count": 29,
   "metadata": {
    "scrolled": true
   },
   "outputs": [
    {
     "ename": "SyntaxError",
     "evalue": "invalid syntax (<ipython-input-29-752f3c6c245f>, line 1)",
     "output_type": "error",
     "traceback": [
      "\u001b[0;36m  File \u001b[0;32m\"<ipython-input-29-752f3c6c245f>\"\u001b[0;36m, line \u001b[0;32m1\u001b[0m\n\u001b[0;31m    models_1[0]sq\u001b[0m\n\u001b[0m                ^\u001b[0m\n\u001b[0;31mSyntaxError\u001b[0m\u001b[0;31m:\u001b[0m invalid syntax\n"
     ]
    }
   ],
   "source": [
    "models_1[0]sq"
   ]
  },
  {
   "cell_type": "code",
   "execution_count": null,
   "metadata": {},
   "outputs": [],
   "source": [
    "model.plot_tree(savefig=True)"
   ]
  },
  {
   "cell_type": "code",
   "execution_count": null,
   "metadata": {
    "scrolled": true
   },
   "outputs": [],
   "source": [
    "model.plot_feature_importance(models_1,10,y_train_1.columns,X_train_1.columns,savefig=False)"
   ]
  },
  {
   "cell_type": "code",
   "execution_count": null,
   "metadata": {},
   "outputs": [],
   "source": [
    "model_xgb = Model('xgb')\n",
    "print(\"------------------------ XGB Unaided Model Training ----------------------------\\n\")\n",
    "models_xgb_1 = model_xgb.train(X_train_1,y_train_1,X_test_1,y_test_1,metrics='r2',plot_error=False)"
   ]
  },
  {
   "cell_type": "code",
   "execution_count": null,
   "metadata": {
    "scrolled": true
   },
   "outputs": [],
   "source": [
    "model_xgb.plot_feature_importance(models_xgb_1,10,y_train_1.columns,X_train_1.columns,savefig=False)"
   ]
  },
  {
   "cell_type": "code",
   "execution_count": null,
   "metadata": {
    "scrolled": true
   },
   "outputs": [],
   "source": [
    "from tqdm import tqdm\n",
    "shap.initjs()\n",
    "explainer=[]\n",
    "shap_values=[]\n",
    "for i in tqdm(range(1)):\n",
    "    explainer.append(shap.TreeExplainer(models_1[i]))\n",
    "    shap_values.append(explainer[-1].shap_values(X_train_1))\n",
    "    \n",
    "    print(i)"
   ]
  },
  {
   "cell_type": "code",
   "execution_count": null,
   "metadata": {},
   "outputs": [],
   "source": [
    "req_cols = [\n",
    "'microsoft_first_ocr',\n",
    "'Laptop_first_ocr',\n",
    "'microsoft_last_ocr',\n",
    "'Happiness_dur',\n",
    "'Laptop_last_ocr',\n",
    "'Laptop_dur',\n",
    "'Neutral_Male_dur',\n",
    "'Caucasian_dur',\n",
    "'length_of_ad_15',\n",
    "'Happiness_Female_dur',\n",
    "'Female_dur'\n",
    "]"
   ]
  },
  {
   "cell_type": "code",
   "execution_count": null,
   "metadata": {
    "scrolled": true
   },
   "outputs": [],
   "source": [
    "\n",
    "model.shap_analysis(shap_values,X_train_1,y_train_1.columns,X_train_1.columns,n_features=11,required_cols=req_cols)"
   ]
  },
  {
   "cell_type": "code",
   "execution_count": null,
   "metadata": {},
   "outputs": [],
   "source": [
    "import eli5\n",
    "from eli5.sklearn import PermutationImportance\n",
    "\n",
    "perm = PermutationImportance(models_1[0], random_state=1).fit(X_train_1, y_train_1)\n",
    "eli5.show_weights(perm, feature_names = X_train_1.columns.tolist())"
   ]
  },
  {
   "cell_type": "code",
   "execution_count": null,
   "metadata": {},
   "outputs": [],
   "source": [
    "col = 'Caucasian_dur'\n",
    "X_train_1[col].mean()"
   ]
  },
  {
   "cell_type": "code",
   "execution_count": null,
   "metadata": {},
   "outputs": [],
   "source": [
    "a = np.array([1,2,3,4,5])"
   ]
  },
  {
   "cell_type": "code",
   "execution_count": null,
   "metadata": {},
   "outputs": [],
   "source": [
    "a.std()"
   ]
  },
  {
   "cell_type": "code",
   "execution_count": null,
   "metadata": {
    "scrolled": true
   },
   "outputs": [],
   "source": [
    "shap.summary_plot(shap_values[0],X_train_1)"
   ]
  },
  {
   "cell_type": "code",
   "execution_count": null,
   "metadata": {},
   "outputs": [],
   "source": [
    "X_train_14.to_excel('../../Version_1.01/x_train_14.xlsx')"
   ]
  },
  {
   "cell_type": "code",
   "execution_count": null,
   "metadata": {},
   "outputs": [],
   "source": [
    "X_test_14.to_excel('../../Version_1.01/x_test_14.xlsx')\n",
    "y_train_14.to_excel('../../Version_1.01/y_train_14.xlsx')\n",
    "y_test_14.to_excel('../../Version_1.01/y_test_14.xlsx')"
   ]
  },
  {
   "cell_type": "code",
   "execution_count": null,
   "metadata": {},
   "outputs": [],
   "source": [
    "X_train_4.to_excel('../../Version_1.01/x_train_4.xlsx')\n",
    "X_test_4.to_excel('../../Version_1.01/x_test_4.xlsx')\n",
    "y_train_4.to_excel('../../Version_1.01/y_train_4.xlsx')\n",
    "y_test_4.to_excel('../../Version_1.01/y_test_4.xlsx')"
   ]
  }
 ],
 "metadata": {
  "kernelspec": {
   "display_name": "Python 3",
   "language": "python",
   "name": "python3"
  },
  "language_info": {
   "codemirror_mode": {
    "name": "ipython",
    "version": 3
   },
   "file_extension": ".py",
   "mimetype": "text/x-python",
   "name": "python",
   "nbconvert_exporter": "python",
   "pygments_lexer": "ipython3",
   "version": "3.7.3"
  }
 },
 "nbformat": 4,
 "nbformat_minor": 2
}
