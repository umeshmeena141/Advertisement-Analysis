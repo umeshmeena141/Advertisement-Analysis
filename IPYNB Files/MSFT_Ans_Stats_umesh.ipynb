{
 "cells": [
  {
   "cell_type": "code",
   "execution_count": 1,
   "metadata": {},
   "outputs": [],
   "source": [
    "import pandas as pd\n",
    "import sys\n",
    "sys.path.append('../')\n",
    "from Model import Model"
   ]
  },
  {
   "cell_type": "code",
   "execution_count": 2,
   "metadata": {},
   "outputs": [],
   "source": [
    "inp_df = pd.read_excel('Agg_data_from_frame_251.xlsx',sheet_name=\"Sheet1\")"
   ]
  },
  {
   "cell_type": "code",
   "execution_count": 3,
   "metadata": {},
   "outputs": [],
   "source": [
    "model = Model('ranf')"
   ]
  },
  {
   "cell_type": "code",
   "execution_count": 4,
   "metadata": {},
   "outputs": [],
   "source": [
    "Y_old = model.preprocessing.load_Y('Updated_targets_300519.xlsx',video_name=False,column_name=\"diff\")\n",
    "Y_new = model.preprocessing.load_Y('new_targets_21062019.xlsx',video_name=False,column_name=\"same\")\n",
    "Y_unaided = model.preprocessing.load_Y('Agg_Unaided.xlsx',video_name=False,column_name=\"same\")"
   ]
  },
  {
   "cell_type": "code",
   "execution_count": 5,
   "metadata": {},
   "outputs": [],
   "source": [
    "# Y_old = pd.read_excel('Updated_targets_300519.xlsx')\n",
    "# Y_new = pd.read_excel('new_targets_21062019.xlsx')\n",
    "# Y_unaided = pd.read_excel('Agg_Unaided.xlsx')"
   ]
  },
  {
   "cell_type": "code",
   "execution_count": 6,
   "metadata": {},
   "outputs": [],
   "source": [
    "Y_old = Y_old.drop(['Unaided_Branding'],1)"
   ]
  },
  {
   "cell_type": "code",
   "execution_count": 7,
   "metadata": {},
   "outputs": [],
   "source": [
    "Y_raw = pd.concat([Y_old,Y_new,Y_unaided],1)\n",
    "# Y_raw = Y_raw.drop(['Video Name'],1)"
   ]
  },
  {
   "cell_type": "code",
   "execution_count": 8,
   "metadata": {},
   "outputs": [
    {
     "data": {
      "text/plain": [
       "Index(['Brand_Cues__Mean', 'Aided_Branding__Mean', 'Active_Involvement__Mean',\n",
       "       'New_Information__Mean', 'Enjoyment__Mean', 'Brand_Appeal__Mean',\n",
       "       'Understanding__Mean', 'Relevance_of_Information__Mean',\n",
       "       'Credibility_of_Information__Mean', 'Brand_Difference__Mean',\n",
       "       'Interest_peak', 'Interest_mean_score', 'Purchase_intent',\n",
       "       'Persuasion_mean', 'Persuasion_very_likely', 'Interest_peak_frames',\n",
       "       'Unaided Branding'],\n",
       "      dtype='object')"
      ]
     },
     "execution_count": 8,
     "metadata": {},
     "output_type": "execute_result"
    }
   ],
   "source": [
    "Y_raw.columns"
   ]
  },
  {
   "cell_type": "code",
   "execution_count": 9,
   "metadata": {},
   "outputs": [
    {
     "data": {
      "text/plain": [
       "Brand_Cues__Mean                    1\n",
       "Aided_Branding__Mean                1\n",
       "Active_Involvement__Mean            1\n",
       "New_Information__Mean               1\n",
       "Enjoyment__Mean                     1\n",
       "Brand_Appeal__Mean                  1\n",
       "Understanding__Mean                 1\n",
       "Relevance_of_Information__Mean      1\n",
       "Credibility_of_Information__Mean    1\n",
       "Brand_Difference__Mean              1\n",
       "Interest_peak                       0\n",
       "Interest_mean_score                 0\n",
       "Purchase_intent                     0\n",
       "Persuasion_mean                     0\n",
       "Persuasion_very_likely              0\n",
       "Interest_peak_frames                0\n",
       "Unaided Branding                    1\n",
       "dtype: int64"
      ]
     },
     "execution_count": 9,
     "metadata": {},
     "output_type": "execute_result"
    }
   ],
   "source": [
    "Y_raw.isna().sum()"
   ]
  },
  {
   "cell_type": "code",
   "execution_count": 10,
   "metadata": {},
   "outputs": [],
   "source": [
    "Y_raw = Y_raw.dropna()"
   ]
  },
  {
   "cell_type": "code",
   "execution_count": 11,
   "metadata": {},
   "outputs": [],
   "source": [
    "from pandas import *\n",
    "import numpy as np\n",
    "#from libraries.settings import *\n",
    "from scipy.stats.stats import pearsonr\n",
    "import itertools"
   ]
  },
  {
   "cell_type": "markdown",
   "metadata": {},
   "source": [
    "<h1> Pairwise correlations"
   ]
  },
  {
   "cell_type": "code",
   "execution_count": 12,
   "metadata": {
    "scrolled": true
   },
   "outputs": [
    {
     "name": "stdout",
     "output_type": "stream",
     "text": [
      "                                                         PCC       p-value\n",
      "Active_Involvement__Mean?Brand_Appeal__Mean         0.308650  3.930997e-04\n",
      "Active_Involvement__Mean?Brand_Difference__Mean     0.446097  1.310649e-07\n",
      "Active_Involvement__Mean?Credibility_of_Informa...  0.225419  1.051783e-02\n",
      "Active_Involvement__Mean?Enjoyment__Mean            0.304233  4.805291e-04\n",
      "Active_Involvement__Mean?Interest_mean_score        0.381812  8.707751e-06\n",
      "Active_Involvement__Mean?Interest_peak              0.383756  7.765848e-06\n",
      "Active_Involvement__Mean?Interest_peak_frames       0.164495  6.353094e-02\n",
      "Active_Involvement__Mean?New_Information__Mean      0.450779  9.320503e-08\n",
      "Active_Involvement__Mean?Persuasion_mean            0.489629  4.483149e-09\n",
      "Active_Involvement__Mean?Persuasion_very_likely     0.466996  2.749084e-08\n",
      "Active_Involvement__Mean?Purchase_intent            0.282937  1.211953e-03\n",
      "Active_Involvement__Mean?Relevance_of_Informati...  0.209699  1.751689e-02\n",
      "Active_Involvement__Mean?Unaided Branding          -0.073467  4.098593e-01\n",
      "Active_Involvement__Mean?Understanding__Mean        0.128228  1.491728e-01\n",
      "Aided_Branding__Mean?Active_Involvement__Mean       0.193200  2.888875e-02\n",
      "Aided_Branding__Mean?Brand_Appeal__Mean             0.525518  1.900969e-10\n",
      "Aided_Branding__Mean?Brand_Difference__Mean         0.500430  1.799206e-09\n",
      "Aided_Branding__Mean?Credibility_of_Information...  0.535469  7.399302e-11\n",
      "Aided_Branding__Mean?Enjoyment__Mean                0.374326  1.344104e-05\n",
      "Aided_Branding__Mean?Interest_mean_score            0.218894  1.305020e-02\n",
      "Aided_Branding__Mean?Interest_peak                  0.223800  1.110219e-02\n",
      "Aided_Branding__Mean?Interest_peak_frames           0.381903  8.661420e-06\n",
      "Aided_Branding__Mean?New_Information__Mean          0.532656  9.691479e-11\n",
      "Aided_Branding__Mean?Persuasion_mean               -0.094970  2.862726e-01\n",
      "Aided_Branding__Mean?Persuasion_very_likely         0.036766  6.803246e-01\n",
      "Aided_Branding__Mean?Purchase_intent               -0.153446  8.376141e-02\n",
      "Aided_Branding__Mean?Relevance_of_Information__...  0.402988  2.403818e-06\n",
      "Aided_Branding__Mean?Unaided Branding               0.405165  2.095113e-06\n",
      "Aided_Branding__Mean?Understanding__Mean            0.474032  1.586520e-08\n",
      "Brand_Appeal__Mean?Brand_Difference__Mean           0.766323  5.653909e-26\n",
      "...                                                      ...           ...\n",
      "New_Information__Mean?Unaided Branding              0.159156  7.274273e-02\n",
      "New_Information__Mean?Understanding__Mean           0.457649  5.599962e-08\n",
      "Persuasion_mean?Interest_peak_frames               -0.134687  1.295764e-01\n",
      "Persuasion_mean?Persuasion_very_likely              0.822453  1.154093e-32\n",
      "Persuasion_mean?Unaided Branding                   -0.082073  3.570541e-01\n",
      "Persuasion_very_likely?Interest_peak_frames        -0.095435  2.839087e-01\n",
      "Persuasion_very_likely?Unaided Branding             0.056215  5.285269e-01\n",
      "Purchase_intent?Interest_peak_frames               -0.290146  8.931297e-04\n",
      "Purchase_intent?Persuasion_mean                     0.363452  2.478045e-05\n",
      "Purchase_intent?Persuasion_very_likely              0.370712  1.651179e-05\n",
      "Purchase_intent?Unaided Branding                   -0.053840  5.461122e-01\n",
      "Relevance_of_Information__Mean?Brand_Difference...  0.528450  1.444105e-10\n",
      "Relevance_of_Information__Mean?Credibility_of_I...  0.637667  5.774291e-16\n",
      "Relevance_of_Information__Mean?Interest_mean_score  0.329002  1.495377e-04\n",
      "Relevance_of_Information__Mean?Interest_peak        0.334778  1.122377e-04\n",
      "Relevance_of_Information__Mean?Interest_peak_fr...  0.137971  1.204024e-01\n",
      "Relevance_of_Information__Mean?Persuasion_mean     -0.109028  2.205509e-01\n",
      "Relevance_of_Information__Mean?Persuasion_very_... -0.089976  3.124825e-01\n",
      "Relevance_of_Information__Mean?Purchase_intent      0.004736  9.576858e-01\n",
      "Relevance_of_Information__Mean?Unaided Branding     0.139889  1.152824e-01\n",
      "Understanding__Mean?Brand_Difference__Mean          0.545780  2.693316e-11\n",
      "Understanding__Mean?Credibility_of_Information_...  0.673695  2.939982e-18\n",
      "Understanding__Mean?Interest_mean_score             0.459092  5.024224e-08\n",
      "Understanding__Mean?Interest_peak                   0.459664  4.812353e-08\n",
      "Understanding__Mean?Interest_peak_frames            0.185193  3.636693e-02\n",
      "Understanding__Mean?Persuasion_mean                -0.116249  1.913000e-01\n",
      "Understanding__Mean?Persuasion_very_likely         -0.074129  4.056408e-01\n",
      "Understanding__Mean?Purchase_intent                 0.267156  2.300009e-03\n",
      "Understanding__Mean?Relevance_of_Information__Mean  0.499212  1.997445e-09\n",
      "Understanding__Mean?Unaided Branding                0.238291  6.755901e-03\n",
      "\n",
      "[136 rows x 2 columns]\n"
     ]
    }
   ],
   "source": [
    "correlations = {}\n",
    "columns = Y_raw.columns.tolist()\n",
    "\n",
    "for col_a, col_b in itertools.combinations(columns, 2):\n",
    "    correlations[col_a + '?' + col_b] = pearsonr(Y_raw.loc[:, col_a], Y_raw.loc[:, col_b])\n",
    "\n",
    "result = DataFrame.from_dict(correlations, orient='index')\n",
    "result.columns = ['PCC', 'p-value']\n",
    "\n",
    "print(result.sort_index())"
   ]
  },
  {
   "cell_type": "code",
   "execution_count": 13,
   "metadata": {
    "scrolled": true
   },
   "outputs": [],
   "source": [
    "corr_df = pd.DataFrame(columns=[\"Variable\",\"by Variable\",\"Corr\",\"Count\",\"P-value\"],index=sorted(result.index.tolist()))"
   ]
  },
  {
   "cell_type": "code",
   "execution_count": 14,
   "metadata": {},
   "outputs": [],
   "source": [
    "corr_df['Corr'] = result['PCC'].round(3)"
   ]
  },
  {
   "cell_type": "code",
   "execution_count": 15,
   "metadata": {},
   "outputs": [],
   "source": [
    "corr_df['Variable'] = [row.split('?')[0] for row in corr_df.index]\n",
    "corr_df['by Variable'] = [row.split('?')[1] for row in corr_df.index]"
   ]
  },
  {
   "cell_type": "code",
   "execution_count": 16,
   "metadata": {},
   "outputs": [],
   "source": [
    "corr_df['P-value'] = result['p-value'].round(4)"
   ]
  },
  {
   "cell_type": "code",
   "execution_count": 17,
   "metadata": {},
   "outputs": [],
   "source": [
    "corr_df['Count'] = 128"
   ]
  },
  {
   "cell_type": "code",
   "execution_count": 18,
   "metadata": {},
   "outputs": [],
   "source": [
    "corr_df.to_excel('Pairwise_corr.xlsx')"
   ]
  },
  {
   "cell_type": "code",
   "execution_count": 19,
   "metadata": {},
   "outputs": [],
   "source": [
    "result.to_excel('Pairwise_Corr_Dep.xlsx')"
   ]
  },
  {
   "cell_type": "markdown",
   "metadata": {},
   "source": [
    "<h1> Principal Component Analysis"
   ]
  },
  {
   "cell_type": "code",
   "execution_count": 20,
   "metadata": {},
   "outputs": [],
   "source": [
    "from sklearn.preprocessing import StandardScaler\n",
    "Y_raw_std = StandardScaler().fit_transform(Y_raw)"
   ]
  },
  {
   "cell_type": "code",
   "execution_count": 21,
   "metadata": {},
   "outputs": [
    {
     "data": {
      "text/plain": [
       "(128, 17)"
      ]
     },
     "execution_count": 21,
     "metadata": {},
     "output_type": "execute_result"
    }
   ],
   "source": [
    "Y_raw.shape"
   ]
  },
  {
   "cell_type": "code",
   "execution_count": 22,
   "metadata": {},
   "outputs": [
    {
     "data": {
      "text/plain": [
       "PCA(copy=True, iterated_power='auto', n_components=17, random_state=1,\n",
       "  svd_solver='auto', tol=0.0, whiten=False)"
      ]
     },
     "execution_count": 22,
     "metadata": {},
     "output_type": "execute_result"
    }
   ],
   "source": [
    "from sklearn.decomposition import PCA\n",
    "pca = PCA(n_components=17,random_state=1)\n",
    "pca.fit(Y_raw_std)"
   ]
  },
  {
   "cell_type": "code",
   "execution_count": 23,
   "metadata": {},
   "outputs": [
    {
     "name": "stdout",
     "output_type": "stream",
     "text": [
      "[7.25 2.6  1.81 1.25 0.82 0.68 0.52 0.47 0.37 0.32 0.28 0.2  0.18 0.14\n",
      " 0.13 0.1  0.  ]\n"
     ]
    }
   ],
   "source": [
    "print(pca.explained_variance_.round(2))"
   ]
  },
  {
   "cell_type": "code",
   "execution_count": 24,
   "metadata": {},
   "outputs": [
    {
     "data": {
      "text/plain": [
       "array([42.29, 57.47, 68.02, 75.34, 80.12, 84.08, 87.1 , 89.82, 91.99,\n",
       "       93.86, 95.52, 96.71, 97.78, 98.62, 99.38, 99.97, 99.97])"
      ]
     },
     "execution_count": 24,
     "metadata": {},
     "output_type": "execute_result"
    }
   ],
   "source": [
    "var1=np.cumsum(np.round(pca.explained_variance_ratio_, decimals=4)*100)\n",
    "var1"
   ]
  },
  {
   "cell_type": "code",
   "execution_count": 25,
   "metadata": {},
   "outputs": [
    {
     "data": {
      "text/plain": [
       "array([ 1,  2,  3,  4,  5,  6,  7,  8,  9, 10, 11, 12, 13, 14, 15, 16])"
      ]
     },
     "execution_count": 25,
     "metadata": {},
     "output_type": "execute_result"
    }
   ],
   "source": [
    "np.arange(1,17)"
   ]
  },
  {
   "cell_type": "code",
   "execution_count": 26,
   "metadata": {},
   "outputs": [],
   "source": [
    "pca_analysis = pd.DataFrame(index=np.arange(1,18),columns=[\"Eigenvalue\",\"Percent\",\"Cum Percent\"])"
   ]
  },
  {
   "cell_type": "code",
   "execution_count": 27,
   "metadata": {},
   "outputs": [],
   "source": [
    "for i in range(17):\n",
    "    pca_analysis.iloc[i]=[pca.explained_variance_.round(2)[i],(np.round(pca.explained_variance_ratio_,decimals=4)*100)[i],var1[i]]"
   ]
  },
  {
   "cell_type": "code",
   "execution_count": 28,
   "metadata": {},
   "outputs": [],
   "source": [
    "pca_analysis.to_excel('./PCA.xlsx')"
   ]
  },
  {
   "cell_type": "code",
   "execution_count": 29,
   "metadata": {},
   "outputs": [
    {
     "data": {
      "text/plain": [
       "[<matplotlib.lines.Line2D at 0x7fd084c1b8d0>]"
      ]
     },
     "execution_count": 29,
     "metadata": {},
     "output_type": "execute_result"
    },
    {
     "data": {
      "image/png": "[encoded data removed]",
      "text/plain": [
       "<Figure size 432x288 with 1 Axes>"
      ]
     },
     "metadata": {
      "needs_background": "light"
     },
     "output_type": "display_data"
    }
   ],
   "source": [
    "import matplotlib.pyplot as plt\n",
    "plt.plot(var1)"
   ]
  },
  {
   "cell_type": "code",
   "execution_count": 30,
   "metadata": {},
   "outputs": [],
   "source": [
    "from sklearn.decomposition import FactorAnalysis\n",
    "from factor_analyzer.factor_analyzer import calculate_kmo\n",
    "from factor_analyzer import FactorAnalyzer\n",
    "\n",
    "\n",
    "transformer = FactorAnalysis(n_components=4, random_state=0)\n",
    "transformed = transformer.fit_transform(Y_raw_std)"
   ]
  },
  {
   "cell_type": "code",
   "execution_count": 31,
   "metadata": {
    "scrolled": true
   },
   "outputs": [],
   "source": [
    "fa = FactorAnalyzer(17,rotation=None)\n",
    "fa.fit(Y_raw)\n",
    "# fa.analyze(Y_raw,25,rotation=None)\n",
    "ev,v = fa.get_eigenvalues()"
   ]
  },
  {
   "cell_type": "code",
   "execution_count": 32,
   "metadata": {},
   "outputs": [
    {
     "data": {
      "text/plain": [
       "FactorAnalyzer(bounds=(0.005, 1), impute='median', is_corr_matrix=False,\n",
       "        method='minres', n_factors=4, rotation='varimax',\n",
       "        rotation_kwargs={}, use_smc=True)"
      ]
     },
     "execution_count": 32,
     "metadata": {},
     "output_type": "execute_result"
    }
   ],
   "source": [
    "fa = FactorAnalyzer(4,rotation='varimax')\n",
    "fa.fit(Y_raw)"
   ]
  },
  {
   "cell_type": "code",
   "execution_count": 33,
   "metadata": {
    "scrolled": true
   },
   "outputs": [],
   "source": [
    "fa_analysis = pd.DataFrame(fa.loadings_,index=Y_raw.columns,columns=[\"Factor 1\",\"Factor 2\",\"Factor 3\",\"Factor 4\"])"
   ]
  },
  {
   "cell_type": "code",
   "execution_count": 34,
   "metadata": {},
   "outputs": [],
   "source": [
    "fa_analysis.to_excel('./FactorLoading.xlsx')"
   ]
  },
  {
   "cell_type": "code",
   "execution_count": 35,
   "metadata": {},
   "outputs": [],
   "source": [
    "transformed_df = fa.transform(Y_raw)"
   ]
  },
  {
   "cell_type": "code",
   "execution_count": 36,
   "metadata": {
    "scrolled": true
   },
   "outputs": [
    {
     "data": {
      "text/html": [
       "<div>\n",
       "<style scoped>\n",
       "    .dataframe tbody tr th:only-of-type {\n",
       "        vertical-align: middle;\n",
       "    }\n",
       "\n",
       "    .dataframe tbody tr th {\n",
       "        vertical-align: top;\n",
       "    }\n",
       "\n",
       "    .dataframe thead th {\n",
       "        text-align: right;\n",
       "    }\n",
       "</style>\n",
       "<table border=\"1\" class=\"dataframe\">\n",
       "  <thead>\n",
       "    <tr style=\"text-align: right;\">\n",
       "      <th></th>\n",
       "      <th>0</th>\n",
       "      <th>1</th>\n",
       "      <th>2</th>\n",
       "      <th>3</th>\n",
       "    </tr>\n",
       "  </thead>\n",
       "  <tbody>\n",
       "    <tr>\n",
       "      <th>Brand_Cues__Mean</th>\n",
       "      <td>-0.336176</td>\n",
       "      <td>0.601428</td>\n",
       "      <td>-0.339980</td>\n",
       "      <td>-0.145881</td>\n",
       "    </tr>\n",
       "    <tr>\n",
       "      <th>Aided_Branding__Mean</th>\n",
       "      <td>-0.224907</td>\n",
       "      <td>0.557418</td>\n",
       "      <td>-0.392093</td>\n",
       "      <td>0.053938</td>\n",
       "    </tr>\n",
       "    <tr>\n",
       "      <th>Active_Involvement__Mean</th>\n",
       "      <td>-0.383812</td>\n",
       "      <td>-0.183059</td>\n",
       "      <td>-0.556159</td>\n",
       "      <td>0.230508</td>\n",
       "    </tr>\n",
       "    <tr>\n",
       "      <th>New_Information__Mean</th>\n",
       "      <td>-0.626377</td>\n",
       "      <td>0.381148</td>\n",
       "      <td>-0.350040</td>\n",
       "      <td>0.223753</td>\n",
       "    </tr>\n",
       "    <tr>\n",
       "      <th>Enjoyment__Mean</th>\n",
       "      <td>-0.669612</td>\n",
       "      <td>0.424548</td>\n",
       "      <td>-0.151437</td>\n",
       "      <td>0.075986</td>\n",
       "    </tr>\n",
       "    <tr>\n",
       "      <th>Brand_Appeal__Mean</th>\n",
       "      <td>-0.616481</td>\n",
       "      <td>0.538142</td>\n",
       "      <td>-0.304688</td>\n",
       "      <td>0.191158</td>\n",
       "    </tr>\n",
       "    <tr>\n",
       "      <th>Understanding__Mean</th>\n",
       "      <td>-0.462594</td>\n",
       "      <td>0.515900</td>\n",
       "      <td>-0.289397</td>\n",
       "      <td>-0.500946</td>\n",
       "    </tr>\n",
       "    <tr>\n",
       "      <th>Relevance_of_Information__Mean</th>\n",
       "      <td>-0.335453</td>\n",
       "      <td>0.543459</td>\n",
       "      <td>-0.293900</td>\n",
       "      <td>0.020822</td>\n",
       "    </tr>\n",
       "    <tr>\n",
       "      <th>Credibility_of_Information__Mean</th>\n",
       "      <td>-0.560194</td>\n",
       "      <td>0.636104</td>\n",
       "      <td>-0.245995</td>\n",
       "      <td>-0.014284</td>\n",
       "    </tr>\n",
       "    <tr>\n",
       "      <th>Brand_Difference__Mean</th>\n",
       "      <td>-0.727302</td>\n",
       "      <td>0.439652</td>\n",
       "      <td>-0.254282</td>\n",
       "      <td>0.169864</td>\n",
       "    </tr>\n",
       "    <tr>\n",
       "      <th>Interest_peak</th>\n",
       "      <td>-0.999481</td>\n",
       "      <td>-0.000680</td>\n",
       "      <td>0.002366</td>\n",
       "      <td>0.005453</td>\n",
       "    </tr>\n",
       "    <tr>\n",
       "      <th>Interest_mean_score</th>\n",
       "      <td>-0.999441</td>\n",
       "      <td>-0.008514</td>\n",
       "      <td>0.002856</td>\n",
       "      <td>-0.006173</td>\n",
       "    </tr>\n",
       "    <tr>\n",
       "      <th>Purchase_intent</th>\n",
       "      <td>-0.194369</td>\n",
       "      <td>-0.304363</td>\n",
       "      <td>-0.306559</td>\n",
       "      <td>-0.430725</td>\n",
       "    </tr>\n",
       "    <tr>\n",
       "      <th>Persuasion_mean</th>\n",
       "      <td>0.041196</td>\n",
       "      <td>-0.610225</td>\n",
       "      <td>-0.675504</td>\n",
       "      <td>-0.037361</td>\n",
       "    </tr>\n",
       "    <tr>\n",
       "      <th>Persuasion_very_likely</th>\n",
       "      <td>0.043067</td>\n",
       "      <td>-0.495678</td>\n",
       "      <td>-0.761780</td>\n",
       "      <td>0.033502</td>\n",
       "    </tr>\n",
       "    <tr>\n",
       "      <th>Interest_peak_frames</th>\n",
       "      <td>-0.301034</td>\n",
       "      <td>0.276209</td>\n",
       "      <td>-0.052001</td>\n",
       "      <td>0.303798</td>\n",
       "    </tr>\n",
       "    <tr>\n",
       "      <th>Unaided Branding</th>\n",
       "      <td>0.129399</td>\n",
       "      <td>0.359724</td>\n",
       "      <td>-0.245370</td>\n",
       "      <td>-0.129983</td>\n",
       "    </tr>\n",
       "  </tbody>\n",
       "</table>\n",
       "</div>"
      ],
      "text/plain": [
       "                                         0         1         2         3\n",
       "Brand_Cues__Mean                 -0.336176  0.601428 -0.339980 -0.145881\n",
       "Aided_Branding__Mean             -0.224907  0.557418 -0.392093  0.053938\n",
       "Active_Involvement__Mean         -0.383812 -0.183059 -0.556159  0.230508\n",
       "New_Information__Mean            -0.626377  0.381148 -0.350040  0.223753\n",
       "Enjoyment__Mean                  -0.669612  0.424548 -0.151437  0.075986\n",
       "Brand_Appeal__Mean               -0.616481  0.538142 -0.304688  0.191158\n",
       "Understanding__Mean              -0.462594  0.515900 -0.289397 -0.500946\n",
       "Relevance_of_Information__Mean   -0.335453  0.543459 -0.293900  0.020822\n",
       "Credibility_of_Information__Mean -0.560194  0.636104 -0.245995 -0.014284\n",
       "Brand_Difference__Mean           -0.727302  0.439652 -0.254282  0.169864\n",
       "Interest_peak                    -0.999481 -0.000680  0.002366  0.005453\n",
       "Interest_mean_score              -0.999441 -0.008514  0.002856 -0.006173\n",
       "Purchase_intent                  -0.194369 -0.304363 -0.306559 -0.430725\n",
       "Persuasion_mean                   0.041196 -0.610225 -0.675504 -0.037361\n",
       "Persuasion_very_likely            0.043067 -0.495678 -0.761780  0.033502\n",
       "Interest_peak_frames             -0.301034  0.276209 -0.052001  0.303798\n",
       "Unaided Branding                  0.129399  0.359724 -0.245370 -0.129983"
      ]
     },
     "execution_count": 36,
     "metadata": {},
     "output_type": "execute_result"
    }
   ],
   "source": [
    "pd.DataFrame(data=transformer.components_[0:,0:],columns=Y_raw.columns).T"
   ]
  },
  {
   "cell_type": "code",
   "execution_count": 37,
   "metadata": {
    "scrolled": true
   },
   "outputs": [
    {
     "data": {
      "text/plain": [
       "array([ 2.71526477,  2.16707533,  0.73960299,  1.28367563, -0.19618711,\n",
       "        0.52146355,  0.83327536, -0.38680501,  0.96697359, -0.03698476,\n",
       "        0.73092445,  0.91838895, -0.68014826, -0.96375787, -0.91971399,\n",
       "       -0.65099671,  1.36361944, -0.24588885, -0.77599608, -0.0273245 ,\n",
       "       -0.46628525, -0.2574076 ,  1.65617686, -0.05647718, -1.36044995,\n",
       "        0.66836671, -0.51994479,  0.04712594,  1.54745896, -0.58677053,\n",
       "        1.18218736, -0.46652011, -0.53751501,  0.48025916, -0.59460548,\n",
       "       -0.39136621, -1.14781492,  1.68235649,  0.82058273, -0.24802356,\n",
       "        0.56419669,  0.9694247 , -0.30431397, -0.07785216,  0.28160623,\n",
       "        0.41141867, -1.74217199,  0.40881015,  0.07657659, -1.87665331,\n",
       "       -0.92343819,  1.77984227,  1.90313064, -0.81779931, -0.26500431,\n",
       "        0.18195237, -0.14194035, -0.61242047, -0.57808563,  0.55659366,\n",
       "        1.31481239,  1.61877025,  1.14484398,  0.98967452,  0.00341456,\n",
       "        0.32932952,  0.6428436 , -1.29712004, -0.14444668,  0.19825229,\n",
       "       -0.04491319,  0.19718413, -0.32726117,  0.1592583 , -0.69512739,\n",
       "        1.26252773, -1.02035005, -0.68318894, -1.83505166, -1.33803487,\n",
       "       -0.51801376, -0.48944045, -0.3104716 , -3.03259371,  0.44808024,\n",
       "        0.40261775,  0.38525436,  0.2581099 , -1.37555326, -1.0166034 ,\n",
       "       -1.94183639,  0.61378055,  0.49230967, -1.0641337 , -1.01935463,\n",
       "        1.13387553, -0.37953399,  0.77007101, -1.74100881,  0.11080157,\n",
       "        1.89008347, -0.35039766,  0.56096673, -0.12267048,  0.65516341,\n",
       "        0.25393052, -0.97475716, -0.09279037, -1.1357175 ,  0.98755822,\n",
       "        0.50384565, -1.25631596, -0.7670801 ,  1.49696379, -1.24685695,\n",
       "       -0.53628017,  0.33217297,  1.96536247, -0.3543734 ,  0.67502402,\n",
       "       -1.51801334, -0.68353918,  0.84959667, -0.62890004, -0.47389138,\n",
       "       -0.8091342 ,  0.23854744, -0.26193841])"
      ]
     },
     "execution_count": 37,
     "metadata": {},
     "output_type": "execute_result"
    }
   ],
   "source": [
    "transformed_df[:,0]"
   ]
  },
  {
   "cell_type": "code",
   "execution_count": 38,
   "metadata": {},
   "outputs": [],
   "source": [
    "inp_df = inp_df.set_index(inp_df['Video Name'])"
   ]
  },
  {
   "cell_type": "code",
   "execution_count": 39,
   "metadata": {
    "scrolled": true
   },
   "outputs": [
    {
     "data": {
      "text/plain": [
       "array(['Video Name', 'African_frame_count', 'Caucasian_frame_count',\n",
       "       'Eastasian_frame_count', 'Latino_frame_count', 'African_dur',\n",
       "       'Caucasian_dur', 'Eastasian_dur', 'Latino_dur',\n",
       "       'Angry_frame_count', 'Disgust_frame_count', 'Fear_frame_count',\n",
       "       'Happiness_frame_count', 'Neutral_frame_count',\n",
       "       'Sadness_frame_count', 'Surprise_frame_count', 'Angry_dur',\n",
       "       'Disgust_dur', 'Fear_dur', 'Happiness_dur', 'Neutral_dur',\n",
       "       'Sadness_dur', 'Surprise_dur', 'Country_US', 'Country_UK',\n",
       "       'Country_AU', 'length_of_ad_15', 'ad_type_tv',\n",
       "       'Age: 0-15_frame_count', 'Age: 15-24_frame_count',\n",
       "       'Age: 25-34_frame_count', 'Age: 35-44_frame_count',\n",
       "       'Age: 45-60_frame_count', 'Female_frame_count', 'Male_frame_count',\n",
       "       'Female_dur', 'Male_dur', 'Age: 0-15_dur', 'Age: 15-24_dur',\n",
       "       'Age: 25-34_dur', 'Age: 35-44_dur', 'Age: 45-60_dur', 'microsoft',\n",
       "       'microsoft_dur', 'microsoft_first_ocr', 'microsoft_last_ocr',\n",
       "       'microsoft_total_ocr', 'Intel', 'Intel_dur', 'Intel_first_ocr',\n",
       "       'Intel_last_ocr', 'Intel_total_ocr', 'ASUS T102',\n",
       "       'Dell_sub_brand_group', 'HP_group', 'Lenovo_group',\n",
       "       'Macbook_group', 'Surface_group', 'Windows', 'Yoga',\n",
       "       'ASUS T102_dur', 'Dell_sub_brand_group_dur', 'HP_group_dur',\n",
       "       'Lenovo_group_dur', 'Macbook_group_dur', 'Surface_group_dur',\n",
       "       'Windows_dur', 'Yoga_dur', 'ASUS T102_first_ocr',\n",
       "       'ASUS T102_last_ocr', 'ASUS T102_total_ocr',\n",
       "       'Dell_sub_brand_group_first_ocr', 'Dell_sub_brand_group_last_ocr',\n",
       "       'Dell_sub_brand_group_total_ocr', 'HP_group_first_ocr',\n",
       "       'HP_group_last_ocr', 'HP_group_total_ocr',\n",
       "       'Lenovo_group_first_ocr', 'Lenovo_group_last_ocr',\n",
       "       'Lenovo_group_total_ocr', 'Macbook_group_first_ocr',\n",
       "       'Macbook_group_last_ocr', 'Macbook_group_total_ocr',\n",
       "       'Surface_group_first_ocr', 'Surface_group_last_ocr',\n",
       "       'Surface_group_total_ocr', 'Windows_first_ocr', 'Windows_last_ocr',\n",
       "       'Windows_total_ocr', 'Yoga_first_ocr', 'Yoga_last_ocr',\n",
       "       'Yoga_total_ocr', 'Asus_text', 'Currys PCs world_text',\n",
       "       'Dell_text', 'Hp_text', 'Lenovo_text', 'Asus_text_dur',\n",
       "       'Currys PCs world_text_dur', 'Dell_text_dur', 'Hp_text_dur',\n",
       "       'Lenovo_text_dur', 'Asus_text_first_ocr', 'Asus_text_last_ocr',\n",
       "       'Asus_text_total_ocr', 'Currys PCs world_text_first_ocr',\n",
       "       'Currys PCs world_text_last_ocr',\n",
       "       'Currys PCs world_text_total_ocr', 'Dell_text_first_ocr',\n",
       "       'Dell_text_last_ocr', 'Dell_text_total_ocr', 'Hp_text_first_ocr',\n",
       "       'Hp_text_last_ocr', 'Hp_text_total_ocr', 'Lenovo_text_first_ocr',\n",
       "       'Lenovo_text_last_ocr', 'Lenovo_text_total_ocr', 'Apple', 'Asus',\n",
       "       'Dell', 'Hp', 'Apple_dur', 'Asus_dur', 'Dell_dur', 'Hp_dur',\n",
       "       'Apple_first_ocr', 'Apple_last_ocr', 'Apple_total_ocr',\n",
       "       'Asus_first_ocr', 'Asus_last_ocr', 'Asus_total_ocr',\n",
       "       'Dell_first_ocr', 'Dell_last_ocr', 'Dell_total_ocr',\n",
       "       'Hp_first_ocr', 'Hp_last_ocr', 'Hp_total_ocr', 'Microsoft_text',\n",
       "       'Microsoft_text_dur', 'Microsoft_text_first_ocr',\n",
       "       'Microsoft_text_last_ocr', 'Microsoft_text_total_ocr', 'Laptop',\n",
       "       'Laptop_dur', 'Laptop_first_ocr', 'Laptop_last_ocr',\n",
       "       'Laptop_total_ocr', 'Tablet', 'Tablet_dur', 'Tablet_first_ocr',\n",
       "       'Tablet_last_ocr', 'Tablet_total_ocr', 'Mobile', 'Mobile_dur',\n",
       "       'Mobile_first_ocr', 'Mobile_last_ocr', 'Mobile_total_ocr', 'PC',\n",
       "       'PC_dur', 'PC_first_ocr', 'PC_last_ocr', 'PC_total_ocr',\n",
       "       'Campaign', 'railing', 'biking', 'brick', 'research',\n",
       "       'far-away horizon', 'cloth', 'cold', 'playing',\n",
       "       'semi-enclosed area', 'dirty', 'aged', 'reading', 'man-made',\n",
       "       'natural light', 'dry', 'medical activity', 'moist',\n",
       "       'transporting', 'sterile', 'sports', 'bathing', 'grass', 'fire',\n",
       "       'shopping', 'warm', 'vinyl', 'climbing', 'swimming',\n",
       "       'waiting in line', 'training', 'vertical components',\n",
       "       'enclosed area', 'flowers', 'still water', 'matte', 'hiking',\n",
       "       'praying', 'vegetation', 'boating', 'driving', 'wood',\n",
       "       'horizontal components', 'smoke', 'eating', 'foliage', 'dirt',\n",
       "       'spectating', 'soothing', 'open area', 'carpet', 'sand', 'ice',\n",
       "       'pavement', 'diving', 'cluttered space', 'asphalt', 'competing',\n",
       "       'stressful', 'glossy', 'paper', 'gaming', 'rugged scene', 'tiles',\n",
       "       'working', 'glass', 'snow', 'ocean', 'scary', 'metal',\n",
       "       'conducting business', 'running water', 'no horizon', 'sunny',\n",
       "       'shrubbery', 'plastic', 'leaves', 'studying', 'camping', 'clouds',\n",
       "       'exercise', 'trees', 'indoor lighting', 'socializing', 'touring',\n",
       "       'natural', 'congregating', 'using tools', 'symmetrical'],\n",
       "      dtype=object)"
      ]
     },
     "execution_count": 39,
     "metadata": {},
     "output_type": "execute_result"
    }
   ],
   "source": [
    "inp_df.columns.values"
   ]
  },
  {
   "cell_type": "code",
   "execution_count": 40,
   "metadata": {},
   "outputs": [],
   "source": [
    "def filter_df(col):\n",
    "    filtered_df = inp_df.loc[inp_df['Country_US']==1,[col,'Country_US']]\n",
    "    filtered_df.dropna(inplace=True)    \n",
    "    y_filtered = Y_raw.loc[filtered_df.index]  \n",
    "    y_filtered= y_filtered.dropna(how='all')\n",
    "    filtered_df = filtered_df.loc[y_filtered.index]\n",
    "    y_data =fa.transform(y_filtered) \n",
    "    return y_data,filtered_df"
   ]
  },
  {
   "cell_type": "markdown",
   "metadata": {},
   "source": [
    "#### CHI-SQUARE TEST, ANOVA"
   ]
  },
  {
   "cell_type": "code",
   "execution_count": 41,
   "metadata": {},
   "outputs": [],
   "source": [
    "from scipy.stats import f_oneway\n",
    "from sklearn.feature_selection import chi2,f_regression\n",
    "from statsmodels.formula.api import ols\n",
    "from statsmodels.api import stats"
   ]
  },
  {
   "cell_type": "markdown",
   "metadata": {},
   "source": [
    "###### Microsoft-Logo"
   ]
  },
  {
   "cell_type": "code",
   "execution_count": 42,
   "metadata": {
    "scrolled": true
   },
   "outputs": [],
   "source": [
    "def anova_analyis(col):\n",
    "    y,x= filter_df(col)\n",
    "    print(f_oneway(y[:,0:1],x[[col]]))\n",
    "    \n",
    "    df = pd.DataFrame(index=x.index,columns=[col,'Factor_1','Factor_2','Factor_3','Factor_4'])\n",
    "    df[col] = x[col]\n",
    "    df[['Factor_1','Factor_2','Factor_3','Factor_4']] = y\n",
    "    results = ols('Factor_4 ~ C('+col+')', data=df).fit()  \n",
    "    \n",
    "    aov_table =stats.anova_lm(results, typ=2)\n",
    "    print(aov_table)\n",
    "    \n",
    "#     return results.summary()"
   ]
  },
  {
   "cell_type": "code",
   "execution_count": 43,
   "metadata": {
    "scrolled": true
   },
   "outputs": [],
   "source": [
    "inp_df.index = inp_df['Video Name']\n",
    "filtered_df = inp_df.loc[inp_df['Country_US']==1,]\n",
    "#filtered_df.dropna(inplace=True)    \n",
    "y_filtered = Y_raw.loc[filtered_df.index]  \n",
    "y_filtered= y_filtered.dropna(how='all')\n",
    "filtered_df = filtered_df.loc[y_filtered.index]"
   ]
  },
  {
   "cell_type": "code",
   "execution_count": 44,
   "metadata": {},
   "outputs": [
    {
     "data": {
      "text/plain": [
       "<matplotlib.axes._subplots.AxesSubplot at 0x7fd09a42d3c8>"
      ]
     },
     "execution_count": 44,
     "metadata": {},
     "output_type": "execute_result"
    },
    {
     "data": {
      "image/png": "[encoded data removed]",
      "text/plain": [
       "<Figure size 432x288 with 1 Axes>"
      ]
     },
     "metadata": {
      "needs_background": "light"
     },
     "output_type": "display_data"
    }
   ],
   "source": [
    "filtered_df['microsoft_dur'].hist()"
   ]
  },
  {
   "cell_type": "code",
   "execution_count": 45,
   "metadata": {},
   "outputs": [],
   "source": [
    "msoft_bins = filtered_df['microsoft_dur']"
   ]
  },
  {
   "cell_type": "code",
   "execution_count": 46,
   "metadata": {},
   "outputs": [],
   "source": [
    "high_ind = msoft_bins[filtered_df['microsoft_dur']>=7].index\n",
    "low_ind = msoft_bins[filtered_df['microsoft_dur']<=3].index\n",
    "med_ind = msoft_bins[(filtered_df['microsoft_dur']>3 ) & (filtered_df['microsoft_dur']<7)].index\n"
   ]
  },
  {
   "cell_type": "code",
   "execution_count": 47,
   "metadata": {},
   "outputs": [],
   "source": [
    "msoft_bins[high_ind] = \"High\"\n",
    "msoft_bins[low_ind] = \"Low\"\n",
    "msoft_bins[med_ind] = \"Med\""
   ]
  },
  {
   "cell_type": "code",
   "execution_count": 48,
   "metadata": {
    "scrolled": true
   },
   "outputs": [
    {
     "name": "stdout",
     "output_type": "stream",
     "text": [
      "                  sum_sq     df         F    PR(>F)\n",
      "C(msoft_bins)   5.877562    2.0  3.246863  0.042872\n",
      "Residual       94.131833  104.0       NaN       NaN\n"
     ]
    }
   ],
   "source": [
    "df2 = pd.DataFrame(fa.transform(y_filtered))\n",
    "df2.columns = ['Factor_1','Factor_2','Factor_3','Factor_4']\n",
    "df2['msoft_bins'] = msoft_bins.values\n",
    "results = ols('Factor_2 ~ C(msoft_bins)', data=df2).fit()  \n",
    "aov_table =stats.anova_lm(results, typ=2)\n",
    "print(aov_table)"
   ]
  },
  {
   "cell_type": "code",
   "execution_count": 49,
   "metadata": {},
   "outputs": [
    {
     "data": {
      "text/plain": [
       "0.04287235024428715"
      ]
     },
     "execution_count": 49,
     "metadata": {},
     "output_type": "execute_result"
    }
   ],
   "source": [
    "aov_table['PR(>F)'].values[1]"
   ]
  },
  {
   "cell_type": "markdown",
   "metadata": {},
   "source": [
    "### P-Value Table"
   ]
  },
  {
   "cell_type": "code",
   "execution_count": 50,
   "metadata": {},
   "outputs": [],
   "source": [
    "imp_cols = []\n",
    "for col in inp_df.columns.values:\n",
    "    if 'dur' in col:\n",
    "        imp_cols.append(col)\n",
    "    elif '_first_ocr' in col:\n",
    "        imp_cols.append(col)    \n",
    "    elif '_last_ocr' in col:\n",
    "        imp_cols.append(col)\n",
    "    elif '_total_ocr' in col:\n",
    "        imp_cols.append(col)\n",
    "        "
   ]
  },
  {
   "cell_type": "code",
   "execution_count": 51,
   "metadata": {},
   "outputs": [],
   "source": [
    "dur_cols = [col for col in inp_df.columns.values if 'dur' in col]"
   ]
  },
  {
   "cell_type": "code",
   "execution_count": 52,
   "metadata": {},
   "outputs": [],
   "source": [
    "ocr_cols = [col for col in inp_df.columns.values if 'ocr' in col]"
   ]
  },
  {
   "cell_type": "code",
   "execution_count": 60,
   "metadata": {},
   "outputs": [],
   "source": [
    "def bin_transform(df,cols):\n",
    "    for col in cols:\n",
    "        max_val = df[col].max()\n",
    "        min_val = df[col].min()\n",
    "        _30 = min_val+0.3*(max_val-min_val)\n",
    "        _70 = min_val+0.7*(max_val-min_val)\n",
    "        high_ind = df[df[col]>=_70].index\n",
    "        low_ind = df[df[col]<=_30].index\n",
    "        med_ind = df[(df[col]>_30 ) & (filtered_df[col]<_70)].index\n",
    "        df.loc[high_ind,col] = \"High\"\n",
    "        df.loc[low_ind,col] = \"Low\"\n",
    "        df.loc[med_ind,col] = \"Med\"\n",
    "    return df[cols]"
   ]
  },
  {
   "cell_type": "code",
   "execution_count": 54,
   "metadata": {},
   "outputs": [],
   "source": [
    "inp_df.index = inp_df['Video Name']\n",
    "inp_df[inp_df[dur_cols]==0.0] = np.NaN\n",
    "filtered_df = inp_df.loc[inp_df['Country_US']==1,]\n",
    "#filtered_df.dropna(inplace=True)    \n",
    "y_filtered = Y_raw.loc[filtered_df.index]  \n",
    "y_filtered= y_filtered.dropna(how='all')\n",
    "filtered_df = filtered_df.loc[y_filtered.index]"
   ]
  },
  {
   "cell_type": "code",
   "execution_count": 84,
   "metadata": {
    "scrolled": true
   },
   "outputs": [],
   "source": [
    "from copy import deepcopy\n",
    "import re\n",
    "new_df =  deepcopy(filtered_df)  "
   ]
  },
  {
   "cell_type": "code",
   "execution_count": 85,
   "metadata": {},
   "outputs": [],
   "source": [
    "new_df = bin_transform(new_df,imp_cols)"
   ]
  },
  {
   "cell_type": "code",
   "execution_count": 86,
   "metadata": {},
   "outputs": [],
   "source": [
    "new_df.fillna('NA',inplace=True)"
   ]
  },
  {
   "cell_type": "code",
   "execution_count": 82,
   "metadata": {},
   "outputs": [],
   "source": [
    "new_df.to_excel('Binned_df_for_dur&ocr.xlsx')"
   ]
  },
  {
   "cell_type": "code",
   "execution_count": 98,
   "metadata": {},
   "outputs": [
    {
     "name": "stdout",
     "output_type": "stream",
     "text": [
      "Currys PCs world_text_dur\n",
      "Currys PCs world_text_dur\n",
      "Currys PCs world_text_dur\n",
      "Currys PCs world_text_dur\n",
      "Currys PCs world_text_first_ocr\n",
      "Currys PCs world_text_first_ocr\n",
      "Currys PCs world_text_first_ocr\n",
      "Currys PCs world_text_first_ocr\n",
      "Currys PCs world_text_last_ocr\n",
      "Currys PCs world_text_last_ocr\n",
      "Currys PCs world_text_last_ocr\n",
      "Currys PCs world_text_last_ocr\n",
      "Currys PCs world_text_total_ocr\n",
      "Currys PCs world_text_total_ocr\n",
      "Currys PCs world_text_total_ocr\n",
      "Currys PCs world_text_total_ocr\n"
     ]
    }
   ],
   "source": [
    "p_df = pd.DataFrame(index=imp_cols,columns=['Factor_1','Factor_2','Factor_3','Factor_4'])\n",
    "df2 = pd.DataFrame(fa.transform(y_filtered))\n",
    "df2.columns = ['Factor_1','Factor_2','Factor_3','Factor_4']\n",
    "for col in  imp_cols:\n",
    "    col_n = re.sub(\"[^a-zA-Z]\", \"\",col)\n",
    "#     col_n = col_n.replace(\" \",\"\")\n",
    "#     print(col_n)\n",
    "    df2[col_n] = new_df[col].values\n",
    "    for factor in ['Factor_1','Factor_2','Factor_3','Factor_4']:\n",
    "        try:\n",
    "            results = ols(factor + ' ~ C('+col_n+')', data=df2).fit()  \n",
    "            aov_table =stats.anova_lm(results, typ=2)\n",
    "            p_df.loc[col,factor]= aov_table['PR(>F)'].values[0]\n",
    "        except:\n",
    "            print(col)"
   ]
  },
  {
   "cell_type": "code",
   "execution_count": 100,
   "metadata": {},
   "outputs": [],
   "source": [
    "p_df.to_excel('p_values.xlsx')"
   ]
  },
  {
   "cell_type": "code",
   "execution_count": 117,
   "metadata": {},
   "outputs": [],
   "source": [
    "sig_df = deepcopy(p_df)"
   ]
  },
  {
   "cell_type": "code",
   "execution_count": 118,
   "metadata": {},
   "outputs": [],
   "source": [
    "sig_df[sig_df>0.05] = \"INSIG\"\n",
    "sig_df[sig_df!=\"INSIG\"] = \"SIG\""
   ]
  },
  {
   "cell_type": "code",
   "execution_count": 120,
   "metadata": {},
   "outputs": [],
   "source": [
    "sig_df.to_excel('sig_df.xlsx')"
   ]
  }
 ],
 "metadata": {
  "kernelspec": {
   "display_name": "Python 3",
   "language": "python",
   "name": "python3"
  },
  "language_info": {
   "codemirror_mode": {
    "name": "ipython",
    "version": 3
   },
   "file_extension": ".py",
   "mimetype": "text/x-python",
   "name": "python",
   "nbconvert_exporter": "python",
   "pygments_lexer": "ipython3",
   "version": "3.7.3"
  }
 },
 "nbformat": 4,
 "nbformat_minor": 2
}
